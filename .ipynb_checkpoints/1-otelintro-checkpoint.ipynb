{
 "cells": [
  {
   "cell_type": "markdown",
   "id": "c50391b7",
   "metadata": {},
   "source": [
    "# Introduction to OpenTelemetry\n",
    "\n",
    "OpenTelemetry is a collection of tools, APIs and SDKs that allows for instrumentation of applications to generate observability data that can then be collected and contextualized to help analyze application performance and behavior.\n",
    "\n",
    "### Relevant OpenTelemetry Terminology\n",
    "\n",
    "    * API - In the OpenTelemetry project, API's are used to define how telemetry data is generated\n",
    "    \n",
    "    * SDK - A telemetry SDK implements the OpenTelemetry API in a specific language\n",
    "    \n",
    "    * Semantic Conventions - Defines standard names and values of Metadata in order to provide vendor-agnostic telemetry data\n",
    "    \n",
    "    * OTLP - OpenTelemetry Protocol (OTLP) defines the protocol used to exchange data between the client and the server over gRPC or HTTP\n",
    "\n",
    "### OpenTelemetry Signal Types\n",
    "    \n",
    "    * Metrics - a set of measurements collected at regular intervals\n",
    "    \n",
    "    * Logs - strings of structured or unstructured text with an associated timestamp\n",
    "    \n",
    "    * Traces - chains of events (or transactions) between different components in an application\n",
    "\n",
    "### OpenTelemetry reference Architecture\n",
    "\n",
    "Following is a high level architecture diagram for OpenTelemetry. Basically, it shows instrumentation of modern (or legacy) applications that ship back the performance data to a centralized OpenTelemetry Collector: \n",
    "\n",
    "![alt text]https://github.com/prathjan/images/blob/main/otelref.png?raw=true\n",
    "\n",
    "Various pipelines in the collector can be leveraged to contextualize the data before fanning out the observability data to backends such as Jaeger, Prometheus, AppDynamics Cloud or Cisco's FSO Platform:\n",
    "\n",
    "![alt text]https://github.com/prathjan/images/blob/main/otelref2.png?raw=true\n",
    "\n",
    "Let's now deploy and auto instrument a sample JAVA application on a k8s cluster, collect/forward observability data to an OTEL collector and then export to backend observability tools. We will be visualizing MELT data in Cisco FSO Platform.\n"
   ]
  },
  {
   "cell_type": "markdown",
   "id": "41c5380f",
   "metadata": {},
   "source": [
    "## Pre-execution steps\n",
    "\n",
    "Recall the globals set in the previous notebook. Click Run to set the environment."
   ]
  },
  {
   "cell_type": "code",
   "execution_count": null,
   "id": "9acb60bf",
   "metadata": {},
   "outputs": [],
   "source": [
    "%pwd\n",
    "%cd ../output\n",
    "%ls\n",
    "!terraform init\n",
    "!terraform apply -auto-approve\n"
   ]
  },
  {
   "cell_type": "code",
   "execution_count": null,
   "id": "105e1672",
   "metadata": {},
   "outputs": [],
   "source": [
    "%env cluster_ca=LS0tLS1CRUdJTiBDRVJUSUZJQ0FURS0tLS0tCk1JSURCVENDQWUyZ0F3SUJBZ0lJVU5MYmM2SXZ1TGd3RFFZSktvWklodmNOQVFFTEJRQXdGVEVUTUJFR0ExVUUKQXhNS2EzVmlaWEp1WlhSbGN6QWVGdzB5TXpFd01EVXlNRFF5TVRaYUZ3MHpNekV3TURJeU1EUXlNVFphTUJVeApFekFSQmdOVkJBTVRDbXQxWW1WeWJtVjBaWE13Z2dFaU1BMEdDU3FHU0liM0RRRUJBUVVBQTRJQkR3QXdnZ0VLCkFvSUJBUUN2cmtsWFNpQjludkdUVDZDRXBzMm85NUoyd2UydzFVZHNXSFI1ejBPS0tjN2YzM3ppWWRUdU5FT3IKMmxvQ0I0Y3NteDBWaWthOS9IRTZDQWpoaFkyeUVlcG4zMXh1eGl4VEYzY3Q5QzBsVGRFeFcraGVxU2JwdlExeAo5c0ZhOEZZZ3AxODZSUWh2enpQUEtPUHVtN1BmemFFK0pjVEh1V3pGYzlYcThnaE5qRVA3YzRZdTEyaDhuaWROCitvWWd3V0ljQldBMTBJWS9iNlZxVk9BVFZiejk3Q3JRWCtNNS9NaHg3am55WXBnVXBWM1pIVWJwMU8vRDQ1WWEKNXJjRTRDUGZHU0MxQTZkRU96Zjl6QnowT1B1RlN4R1lLTXJPNHE3dkpaUlZHRG8vbVRaOXo0SEVTcU13cFB0cAovTmU0ays3c1ZzNUxVRkZEcHlOWFNCbjI4blpaQWdNQkFBR2pXVEJYTUE0R0ExVWREd0VCL3dRRUF3SUNwREFQCkJnTlZIUk1CQWY4RUJUQURBUUgvTUIwR0ExVWREZ1FXQkJUSVFQa2JGRmFYdkxiKzMzVCtsMEhYSzM4cFB6QVYKQmdOVkhSRUVEakFNZ2dwcmRXSmxjbTVsZEdWek1BMEdDU3FHU0liM0RRRUJDd1VBQTRJQkFRQnZqZWxsMnozMgp2YXphVExNMzdoN2cyRHppUElEcUg4OVB4Y1d6NW91WGs1ZlA0QzBJcHI1MEtnRDRHN3RBRUFuelNGRWhEUHAyCjBUQ2ZnbkxsMktwT0RqekxydWxqR1dCWEhMR3ovS3RlZGV4QVhZMzZlOG5UNmxnSW55YzlNWEpROVUzYmNOMnIKVERXT2ptU2w5UXRwNEVDclVtMGlleUZCNDFLU01RSlNneWNZRE1JRjl4dDBnNy90MnBOZU1vcFBtUmdJM0NVZQo3VFF4L0Y4ZGZuSWxYNHJLUWY3TlR5Ulloek51QUY3cGFRWGQwWGQwcDZZRnM2aGtVRU1IRUxLMlFmQURFRS9aCjI2Tm8zakVkN2ZLdnF6T3YvQ3dzdEdXVTYzQUFPT3gyTTFCY28zNE9QRU95bTdmeXdBTWNlWlZUd0hzTVZnL2YKNm5pTWFPcGNSMEdwCi0tLS0tRU5EIENFUlRJRklDQVRFLS0tLS0K\n",
    "\n",
    "%env cluster_endpoint=https://E79B2461776A9E2301CC3963E2FBF206.gr7.us-east-2.eks.amazonaws.com\n",
    "    \n",
    "%env cluster_name=AppD-EKS-Addon-umkht-EKS\n",
    "\n",
    "%env token=k8s-aws-v1.aHR0cHM6Ly9zdHMuYW1hem9uYXdzLmNvbS8_QWN0aW9uPUdldENhbGxlcklkZW50aXR5JlZlcnNpb249MjAxMS0wNi0xNSZYLUFtei1BbGdvcml0aG09QVdTNC1ITUFDLVNIQTI1NiZYLUFtei1DcmVkZW50aWFsPUFLSUFSUUlLR01EV0tTUDdGQUZPJTJGMjAyMzEwMjklMkZ1cy1lYXN0LTElMkZzdHMlMkZhd3M0X3JlcXVlc3QmWC1BbXotRGF0ZT0yMDIzMTAyOVQwMTE5NTZaJlgtQW16LUV4cGlyZXM9MCZYLUFtei1TaWduZWRIZWFkZXJzPWhvc3QlM0J4LWs4cy1hd3MtaWQmWC1BbXotU2lnbmF0dXJlPTQyN2RiMDUyZjNjYjViNzM0NDA1OTk0NDRjN2JiMzk4MjFmOTg3ODU4Y2UzNWI1ZjI4ODkxNWM0ZTRmOGEwYzg\n",
    "\n",
    "%env aws_eks_cluster_name=AppD-EKS-Addon-umkht-EKS\n",
    "\n",
    "%env aws_region=us-east-2\n",
    "\n",
    "%env clientId=agt_4asW1mM0obQSUFD1RIcick\n",
    "\n",
    "%env clientSecret=v7vYqtnSv3ql27fdaO-pibDOJVStujCqNFskLOrhxRQ\n",
    "\n",
    "%env clusterName=AppD-EKS-Addon-umkht-EKS"
   ]
  },
  {
   "cell_type": "code",
   "execution_count": null,
   "id": "1fd2a556",
   "metadata": {},
   "outputs": [],
   "source": [
    "import os\n",
    "\n",
    "cluster_ca = os.getenv('cluster_ca')\n",
    "cluster_endpoint = os.getenv('cluster_endpoint')\n",
    "cluster_name = os.getenv('cluster_name')\n",
    "token = os.getenv('token')\n",
    "aws_eks_cluster_name = os.getenv('aws_eks_cluster_name')\n",
    "aws_region = os.getenv('aws_region')\n",
    "\n",
    "# %store -r cluster_ca\n",
    "# %store -r cluster_endpoint\n",
    "#%store -r cluster_name\n",
    "#%store -r token\n",
    "#%store -r aws_eks_cluster_name\n",
    "#%store -r aws_region\n",
    "#os.environ['cluster_ca'] = cluster_ca\n",
    "#os.environ['cluster_endpoint'] = cluster_endpoint\n",
    "#os.environ['cluster_name'] = cluster_name\n",
    "#os.environ['token'] = token\n",
    "#os.environ['aws_eks_cluster_name'] = aws_eks_cluster_name\n",
    "#os.environ['aws_region'] = aws_region\n",
    "\n",
    "print(\"Globals set:\" + \"\\n\")\n",
    "print(\"cluster_ca:\" + cluster_ca + \"\\n\")\n",
    "print(\"cluster_endpoint:\" + cluster_endpoint + \"\\n\")"
   ]
  },
  {
   "cell_type": "markdown",
   "id": "4065df2b",
   "metadata": {},
   "source": [
    "## Deploy Teastore Multi service application in EKS\n"
   ]
  },
  {
   "cell_type": "code",
   "execution_count": null,
   "id": "be0127ff",
   "metadata": {},
   "outputs": [],
   "source": [
    "%pwd\n",
    "%cd ../teaapp"
   ]
  },
  {
   "cell_type": "code",
   "execution_count": null,
   "id": "9deccd6b",
   "metadata": {},
   "outputs": [],
   "source": [
    "%%writefile main.tf\n",
    "\n",
    "provider \"aws\" {\n",
    "  region = var.aws_region\n",
    "}\n",
    "\n",
    "provider \"helm\" {\n",
    "  kubernetes {\n",
    "    host                   = var.endpoint\n",
    "    cluster_ca_certificate = base64decode(var.cluster_ca)\n",
    "    token                  = var.token\n",
    "  }\n",
    "}\n",
    "\n",
    "resource \"helm_release\" \"teaapp\" {\n",
    "  name       = \"teaapp\"\n",
    "  description      = \"A Helm chart for the TeaStore application.\"\n",
    "  namespace = \"default\"\n",
    "  chart = \"https://prathjan.github.io/helm-chart/teastore-0.1.0.tgz\"\n",
    "  wait             = true\n",
    "  wait_for_jobs    = true\n",
    "}"
   ]
  },
  {
   "cell_type": "code",
   "execution_count": null,
   "id": "389d0252",
   "metadata": {},
   "outputs": [],
   "source": [
    "!terraform init\n",
    "!terraform apply -auto-approve -var=\"cluster_ca=$cluster_ca\" -var=\"endpoint=$cluster_endpoint\" -var=\"token=$token\"\n"
   ]
  },
  {
   "cell_type": "code",
   "execution_count": null,
   "id": "bdd6787b",
   "metadata": {},
   "outputs": [],
   "source": [
    "!helm ls --all-namespaces"
   ]
  },
  {
   "cell_type": "code",
   "execution_count": null,
   "id": "457ed3b8",
   "metadata": {},
   "outputs": [],
   "source": [
    "!helm delete  appdynamics-operators -n appdynamics"
   ]
  },
  {
   "cell_type": "markdown",
   "id": "96a35ff6",
   "metadata": {},
   "source": [
    "## Access TeaStore Application\n",
    "\n",
    "Get the service url for the TeaStore Application just deployed:\n"
   ]
  },
  {
   "cell_type": "code",
   "execution_count": null,
   "id": "b253521d",
   "metadata": {},
   "outputs": [],
   "source": [
    "!kubectl get pods --all-namespaces\n",
    " "
   ]
  },
  {
   "cell_type": "code",
   "execution_count": null,
   "id": "b9b2ea7b",
   "metadata": {},
   "outputs": [],
   "source": [
    "!kubectl get svc"
   ]
  },
  {
   "cell_type": "markdown",
   "id": "7fe5722e",
   "metadata": {},
   "source": [
    "\n",
    "Use the Load Balancer IP listed above and access the application just deployed at:\n",
    "\n",
    "http://*LB_IP*/tools.descartes.teastore.webui/\n",
    "\n",
    "It should look something like this. Deployment takes about 5 mins, refresh if you do not see the UI below:\n",
    "\n",
    "https://github.com/prathjan/images/blob/main/teaapp.png?raw=true"
   ]
  },
  {
   "cell_type": "markdown",
   "id": "9dd6e9dc",
   "metadata": {},
   "source": [
    "## Deploy AppDynamics Kubernetes and App Service Monitoring in EKS\n",
    "\n",
    "Kubernetes and App Service Monitoring provides visibility into your Kubernetes® infrastructure and services for Application Performance Monitoring (APM).\n",
    "\n",
    "For more info: \n",
    "\n",
    "https://docs.appdynamics.com/fso/cloud-native-app-obs/en/kubernetes-and-app-service-monitoring/install-kubernetes-and-app-service-monitoring#InstallKubernetesandAppServiceMonitoring-helm-chartsInstallKubernetesandAppServiceMonitoringUsingHelmCharts\n"
   ]
  },
  {
   "cell_type": "markdown",
   "id": "0deaeaa7",
   "metadata": {},
   "source": [
    "## Pre-provisioning"
   ]
  },
  {
   "cell_type": "code",
   "execution_count": null,
   "id": "0de50129",
   "metadata": {},
   "outputs": [],
   "source": [
    "%pwd\n",
    "%cd template\n",
    "!terraform init\n",
    "!terraform apply -auto-approve -var=\"clusterName=$clusterName\" -var=\"clientId=$clientId\" -var=\"clientSecret=$clientSecret\"\n"
   ]
  },
  {
   "cell_type": "code",
   "execution_count": null,
   "id": "8607ebdf",
   "metadata": {},
   "outputs": [],
   "source": [
    "%cd ..\n",
    "!cat collectors-values.yaml  "
   ]
  },
  {
   "cell_type": "code",
   "execution_count": null,
   "id": "ca03ba60",
   "metadata": {},
   "outputs": [],
   "source": [
    "!cat operators-values.yaml "
   ]
  },
  {
   "cell_type": "code",
   "execution_count": null,
   "id": "c09c3940",
   "metadata": {},
   "outputs": [],
   "source": [
    "!helm repo add appdynamics-cloud-helmcharts https://appdynamics.jfrog.io/artifactory/appdynamics-cloud-helmcharts/\n"
   ]
  },
  {
   "cell_type": "code",
   "execution_count": null,
   "id": "8c1468c0",
   "metadata": {},
   "outputs": [],
   "source": [
    "!helm repo update"
   ]
  },
  {
   "cell_type": "code",
   "execution_count": null,
   "id": "71c57b18",
   "metadata": {},
   "outputs": [],
   "source": [
    "!helm install appdynamics-operators appdynamics-cloud-helmcharts/appdynamics-operators -n appdynamics -f operators-values.yaml --wait\n",
    "\n"
   ]
  },
  {
   "cell_type": "code",
   "execution_count": null,
   "id": "f68263fd",
   "metadata": {},
   "outputs": [],
   "source": [
    "!kubectl delete -f https://github.com/cert-manager/cert-manager/releases/download/v1.8.0/cert-manager.yaml"
   ]
  },
  {
   "cell_type": "code",
   "execution_count": null,
   "id": "b6443c1b",
   "metadata": {},
   "outputs": [],
   "source": [
    "!helm install appdynamics-collectors appdynamics-cloud-helmcharts/appdynamics-collectors -n appdynamics -f collectors-values.yaml\n",
    "\n"
   ]
  },
  {
   "cell_type": "code",
   "execution_count": null,
   "id": "4251a3da",
   "metadata": {},
   "outputs": [],
   "source": [
    "!kubectl get pods -n appdynamics\n",
    "\n",
    "\n"
   ]
  },
  {
   "cell_type": "code",
   "execution_count": null,
   "id": "76c11c15",
   "metadata": {},
   "outputs": [],
   "source": [
    "%cd ..\n",
    "%cd addon\n",
    "!terraform init\n",
    "!terraform apply -auto-approve"
   ]
  },
  {
   "cell_type": "code",
   "execution_count": null,
   "id": "c9e555ae",
   "metadata": {},
   "outputs": [],
   "source": [
    "!kubectl get pods -n appdynamics\n"
   ]
  },
  {
   "cell_type": "markdown",
   "id": "d984cbbe",
   "metadata": {},
   "source": [
    "## Auto Instrumentation of TeaStore Application\n",
    "\n",
    "Description - TBD\n",
    "\n",
    "Autoinstrument and verify MELT data is getting to OTEL collector\n"
   ]
  },
  {
   "cell_type": "code",
   "execution_count": null,
   "id": "45822b81",
   "metadata": {},
   "outputs": [],
   "source": [
    "!kubectl apply -f instrumentation.yaml"
   ]
  },
  {
   "cell_type": "code",
   "execution_count": null,
   "id": "5a37ff39",
   "metadata": {},
   "outputs": [],
   "source": [
    "!kubectl describe pods"
   ]
  },
  {
   "cell_type": "code",
   "execution_count": null,
   "id": "16c2c01d",
   "metadata": {},
   "outputs": [],
   "source": [
    "!kubectl get pods -n appdynamics\n"
   ]
  },
  {
   "cell_type": "code",
   "execution_count": null,
   "id": "92398408",
   "metadata": {},
   "outputs": [],
   "source": [
    "!kubectl get otelinst -n appdynamics"
   ]
  },
  {
   "cell_type": "code",
   "execution_count": null,
   "id": "12833e9b",
   "metadata": {},
   "outputs": [],
   "source": [
    "!kubectl describe namespace default\n"
   ]
  },
  {
   "cell_type": "code",
   "execution_count": null,
   "id": "d30cf4ef",
   "metadata": {},
   "outputs": [],
   "source": [
    "!kubectl patch namespace default --patch '{\"metadata\": {\"annotations\": {\"instrumentation.opentelemetry.io/inject-java\": \"appdynamics/appd-instrumentation\"}}}'\n"
   ]
  },
  {
   "cell_type": "code",
   "execution_count": null,
   "id": "949cbe0f",
   "metadata": {},
   "outputs": [],
   "source": [
    "!kubectl patch namespace default --patch '{\"Annotations\": {\"instrumentation.opentelemetry.io/inject-java\": \"appdynamics/appd-instrumentation\"}}'\n"
   ]
  },
  {
   "cell_type": "code",
   "execution_count": null,
   "id": "36d006d6",
   "metadata": {},
   "outputs": [],
   "source": [
    "!kubectl delete pod $(kubectl get pods | grep teaapp | cut -d ' ' -f 1)"
   ]
  },
  {
   "cell_type": "code",
   "execution_count": null,
   "id": "ce75842d",
   "metadata": {},
   "outputs": [],
   "source": [
    "!kubectl get pods"
   ]
  },
  {
   "cell_type": "code",
   "execution_count": null,
   "id": "a91456b0",
   "metadata": {},
   "outputs": [],
   "source": [
    "!kubectl describe pod teaapp-teastore-db-0 \n"
   ]
  },
  {
   "cell_type": "markdown",
   "id": "5387cc0d",
   "metadata": {},
   "source": [
    "## Full Stack Observability in AppDynamics Cloud\n",
    "\n",
    "Once the JAVA services are auto instrumented, you will be able to review the value add of Cisco's FSO Platform as it applies to the following:\n",
    "\n",
    "* Observe cloud-native microservices deployed on multiple public Kubernetes clusters.\n",
    "\n",
    "* Observe the full stack, including relationships and interdependencies, using an extensible topology.\n",
    "\n",
    "* Monitor business transactions.\n",
    "\n",
    "* Receive MELT data from OpenTelemetry-compatible collectors.\n",
    "\n",
    "https://github.com/prathjan/images/blob/main/fsosvc.png?raw=true\n"
   ]
  },
  {
   "cell_type": "markdown",
   "id": "8a30099d",
   "metadata": {},
   "source": [
    "In the next section, we will review Cisco's FSO Platform briefly."
   ]
  },
  {
   "cell_type": "code",
   "execution_count": null,
   "id": "b2082c9c",
   "metadata": {},
   "outputs": [],
   "source": [
    "!helm delete appdynamics-collectors appdynamics-operators -n appdynamics "
   ]
  },
  {
   "cell_type": "code",
   "execution_count": null,
   "id": "5b2d89f7",
   "metadata": {},
   "outputs": [],
   "source": [
    "!helm delete teaapp"
   ]
  },
  {
   "cell_type": "code",
   "execution_count": null,
   "id": "4d21968a",
   "metadata": {},
   "outputs": [],
   "source": []
  }
 ],
 "metadata": {
  "kernelspec": {
   "display_name": "Python 3 (ipykernel)",
   "language": "python",
   "name": "python3"
  },
  "language_info": {
   "codemirror_mode": {
    "name": "ipython",
    "version": 3
   },
   "file_extension": ".py",
   "mimetype": "text/x-python",
   "name": "python",
   "nbconvert_exporter": "python",
   "pygments_lexer": "ipython3",
   "version": "3.9.13"
  }
 },
 "nbformat": 4,
 "nbformat_minor": 5
}
