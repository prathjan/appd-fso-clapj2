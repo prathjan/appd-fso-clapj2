{
 "cells": [
  {
   "cell_type": "markdown",
   "id": "c50391b7",
   "metadata": {},
   "source": [
    "# Generate API Token with Service Principal Client ID and Secret\n",
    "\n",
    "Note that a service principal to securely connect to AppDynamics public APIs on your Cloud Tenant has already been created for this lab. We reviewed this in the last section as the information you would receive in your reservation:\n",
    "\n",
    "![alt text](https://github.com/prathjan/images/blob/main/reserve3.png?raw=true)\n",
    "\n",
    "You will now execute AppDynamics API requests to get an API token with the client key and secret of the service principal provided to you as highlighted in the above diagram.\n",
    "\n",
    "There are two client configurations that can be used to generate the API tokens:\n",
    "\n",
    "    * Basic authentication where client credentials are sent in the basic authorization header\n",
    "    \n",
    "    * Post authentication where the client credentials are sent in the request body\n",
    "\n",
    "Let's try both configurations here. Following are the steps that will be executed in this section:\n",
    "\n",
    "    * Set global variables\n",
    "    \n",
    "    * Generate tenant ID\n",
    "    \n",
    "    * Generate an API token using POST authentication\n",
    "    \n",
    "    * Generate an API token with Basic authentication\n",
    "    \n",
    "For more details on Service principals, please refer to the following documentation: https://developer.cisco.com/docs/appdynamics/authentication/#!appdynamics-cloud-oauth-api-appdynamics-cloud-oauth-api/overview\n",
    "\n",
    "Click Run either from the menu above OR the Run button in each code block. Make sure you follow the steps laid out as below in sequence for best experience. Skipping steps may lead to errors.\n",
    "\n",
    "After you click Run, executions in progress will be denoted by \"ln[*]\"\n",
    "\n",
    "PLEASE WAIT FOR EXECUTION TO COMPLETE.\n"
   ]
  },
  {
   "cell_type": "markdown",
   "id": "4065df2b",
   "metadata": {},
   "source": [
    "## Set sandbox parameters\n",
    "\n",
    "Sandbox Parameters to be set has already been provided to you in the reservation UI as highlighted in the disgram below: \n",
    "\n",
    "![alt text](https://github.com/prathjan/images/blob/main/reserve1.png?raw=true)\n",
    "\n",
    "You can copy the values from your reservation window above and copy it in the box below:\n"
   ]
  },
  {
   "cell_type": "code",
   "execution_count": 4,
   "id": "afb2ae30",
   "metadata": {},
   "outputs": [
    {
     "name": "stdout",
     "output_type": "stream",
     "text": [
      "env: APPD_CLIENTID_POST=<provided in the Sandbox above>\n",
      "env: APPD_SECRET_POST=<provided in the Sandbox above>\n",
      "env: APPD_CLIENTID_BASIC=<provided in the Sandbox above>\n",
      "env: APPD_SECRET_BASIC=<provided in the Sandbox above>\n",
      "env: TENANT_NAME=cisco-devnet\n",
      "env: AWS_ACCESS_KEY=<provided in the Sandbox above>\n",
      "env: AWS_SECRET_KEY=<provided in the Sandbox above>\n",
      "env: AWS_CONNECTION_NAME=<provided in the Sandbox above>\n",
      "env: NEW_SOLUTION_NAME=patsolution1\n",
      "env: EXT_SOLUTION_NAME=fmm\n"
     ]
    }
   ],
   "source": [
    "%env APPD_CLIENTID_POST=<provided in the Sandbox above>\n",
    "%env APPD_SECRET_POST=<provided in the Sandbox above>\n",
    "%env APPD_CLIENTID_BASIC=<provided in the Sandbox above>\n",
    "%env APPD_SECRET_BASIC=<provided in the Sandbox above>\n",
    "%env TENANT_NAME=cisco-devnet\n",
    "%env AWS_ACCESS_KEY=<provided in the Sandbox above>\n",
    "%env AWS_SECRET_KEY=<provided in the Sandbox above>\n",
    "%env AWS_CONNECTION_NAME=<provided in the Sandbox above>\n",
    "%env NEW_SOLUTION_NAME=patsolution1\n",
    "%env EXT_SOLUTION_NAME=fmm"
   ]
  },
  {
   "cell_type": "markdown",
   "id": "d984cbbe",
   "metadata": {},
   "source": [
    "## Set Globals\n",
    "\n",
    "Execute this to set the globals for this notebook."
   ]
  },
  {
   "cell_type": "code",
   "execution_count": 5,
   "id": "3b7f1990",
   "metadata": {},
   "outputs": [
    {
     "name": "stdout",
     "output_type": "stream",
     "text": [
      "Stored 'aws_key' (str)\n",
      "Stored 'aws_secret' (str)\n",
      "Stored 'aws_conn_name' (str)\n",
      "Stored 'aws_conf_name' (str)\n",
      "Stored 'sol_name' (str)\n",
      "Stored 'ext_sol_name' (str)\n",
      "Globals set:\n",
      "Using Aws_Key:<provided in the Sandbox above>\n",
      "Using Aws_Secret:<provided in the Sandbox above>\n",
      "Using Aws_Connection_Name:<provided in the Sandbox above>\n",
      "Using Aws_Config_Name:<provided in the Sandbox above>\n"
     ]
    }
   ],
   "source": [
    "import os, random\n",
    "\n",
    "aws_key = os.getenv('AWS_ACCESS_KEY')\n",
    "aws_secret = os.getenv('AWS_SECRET_KEY')\n",
    "aws_conn_name = os.getenv('AWS_CONNECTION_NAME')\n",
    "#use the same name for connection and config\n",
    "aws_conf_name = os.getenv('AWS_CONNECTION_NAME')\n",
    "sol_name = os.getenv('NEW_SOLUTION_NAME')\n",
    "ext_sol_name = os.getenv('EXT_SOLUTION_NAME')\n",
    "%store aws_key\n",
    "%store aws_secret\n",
    "%store aws_conn_name\n",
    "%store aws_conf_name\n",
    "%store sol_name\n",
    "%store ext_sol_name\n",
    "print(\"Globals set:\")\n",
    "print(\"Using Aws_Key:\" + aws_key)\n",
    "print(\"Using Aws_Secret:\" + aws_secret)\n",
    "print(\"Using Aws_Connection_Name:\" + aws_conn_name)\n",
    "print(\"Using Aws_Config_Name:\" + aws_conf_name)"
   ]
  },
  {
   "cell_type": "markdown",
   "id": "9dd6e9dc",
   "metadata": {},
   "source": [
    "## Generate Tenant ID\n",
    "\n",
    "Given the tenant name, the following API call returns the tenant ID. Please click \"Run\" above to execute this API call and get the tenant ID. You will need this to execute the Configuration and Connection API's:"
   ]
  },
  {
   "cell_type": "code",
   "execution_count": null,
   "id": "f27aa4c2",
   "metadata": {},
   "outputs": [],
   "source": [
    "import json,requests, os\n",
    "\n",
    "def get_ten_id(ten_name):\n",
    "    tenurl = \"https://observe-tenant-lookup-api.saas.appdynamics.com/tenants/lookup/\" + ten_name + \".observe.appdynamics.com\"\n",
    "    headers = {\n",
    "        'Accept': '*/*'\n",
    "    }\n",
    "    response = requests.request(\"GET\", tenurl, headers=headers)\n",
    "    if response.ok:\n",
    "        json_object = json.loads(response.text)\n",
    "        ten_id = json_object['tenantId']\n",
    "        return ten_id\n",
    "    else:\n",
    "        return None\n",
    "\n",
    "#Get tenant ID given the tenant name\n",
    "ten_name = os.getenv('TENANT_NAME')\n",
    "ten_id = get_ten_id(ten_name)\n",
    "if not ten_id:\n",
    "    print(\"Could not get Tenant ID. Cannot proceed with other API's.\")\n",
    "else:\n",
    "    os.environ['TEN_ID'] = ten_id\n",
    "    print(\"Using Tenant ID:\" + ten_id)\n"
   ]
  },
  {
   "cell_type": "markdown",
   "id": "57798da5",
   "metadata": {},
   "source": [
    "## Generate token with POST authentication"
   ]
  },
  {
   "cell_type": "code",
   "execution_count": null,
   "id": "00a761bc",
   "metadata": {},
   "outputs": [],
   "source": [
    "import os\n",
    "\n",
    "def get_token(ten_id, cl_id, cl_secret):\n",
    "    tokenurl = base_url + \"/auth/\" + ten_id + \"/default/oauth2/token\"\n",
    "    print(tokenurl)\n",
    "    payload='grant_type=client_credentials&client_id=' + cl_id + '&client_secret=' + cl_secret\n",
    "    \n",
    "    print(payload)\n",
    "    headers = {\n",
    "        'Content-Type': 'application/x-www-form-urlencoded'\n",
    "    }\n",
    "    response = requests.request(\"POST\", tokenurl, headers=headers, data=payload)\n",
    "    if response.ok:\n",
    "        token_json = response.json()\n",
    "        return(token_json['access_token'])\n",
    "    else:\n",
    "        return None\n",
    "\n",
    "cl_secret = os.getenv('APPD_SECRET_POST')\n",
    "cl_id = os.getenv('APPD_CLIENTID_POST')\n",
    "ten_id = os.getenv('TEN_ID')\n",
    "ten_name = os.getenv('TENANT_NAME')\n",
    "base_url = 'https://' + ten_name + '.observe.appdynamics.com'\n",
    "appd_token = get_token(ten_id, cl_id, cl_secret)\n",
    "if not appd_token:\n",
    "    print(\"Could not get API Token. Cannot proceed with other API's.\")\n",
    "else:\n",
    "    print (appd_token)\n",
    "    %store appd_token\n",
    "    %store base_url"
   ]
  },
  {
   "cell_type": "markdown",
   "id": "85a19d88",
   "metadata": {},
   "source": [
    "## Generate token with Basic authentication"
   ]
  },
  {
   "cell_type": "code",
   "execution_count": null,
   "id": "c9eea66b",
   "metadata": {},
   "outputs": [],
   "source": [
    "import base64, os\n",
    "\n",
    "def get_token_bas():\n",
    "    cl_secret = os.getenv('APPD_SECRET_BASIC')\n",
    "    cl_id = os.getenv('APPD_CLIENTID_BASIC')\n",
    "    bas_string = cl_id + \":\" + cl_secret\n",
    "    bas_string_bytes = bas_string.encode(\"ascii\")\n",
    "  \n",
    "    base64_bytes = base64.b64encode(bas_string_bytes)\n",
    "    base64_string = base64_bytes.decode(\"ascii\")\n",
    "  \n",
    "    tokenurl = base_url + \"/auth/\" + ten_id + \"/default/oauth2/token\"\n",
    "    print(tokenurl)\n",
    "    payload='grant_type=client_credentials'\n",
    "    \n",
    "    print(payload)\n",
    "    headers = {\n",
    "        'Content-Type': 'application/x-www-form-urlencoded',\n",
    "        'Authorization': 'Basic ' +  base64_string\n",
    "    }\n",
    "    response = requests.request(\"POST\", tokenurl, headers=headers, data=payload)\n",
    "    if response.ok:\n",
    "        token_json = response.json()\n",
    "        return(token_json['access_token'])\n",
    "    else:\n",
    "        return None\n",
    "    \n",
    "ten_name = os.getenv('TENANT_NAME')\n",
    "base_url = 'https://' + ten_name + '.observe.appdynamics.com'\n",
    "appd_token = get_token_bas()\n",
    "if not appd_token:\n",
    "    print(\"Could not get API Token. Cannot execute other API's.\")\n",
    "else:\n",
    "    print (appd_token)\n",
    "    %store appd_token\n",
    "    %store base_url"
   ]
  },
  {
   "cell_type": "markdown",
   "id": "d997254d",
   "metadata": {},
   "source": [
    "## Next Steps\n",
    "\n",
    "In the next section, we shall use the API token to create a AWS Cloud Configuration."
   ]
  }
 ],
 "metadata": {
  "kernelspec": {
   "display_name": "Python 3 (ipykernel)",
   "language": "python",
   "name": "python3"
  },
  "language_info": {
   "codemirror_mode": {
    "name": "ipython",
    "version": 3
   },
   "file_extension": ".py",
   "mimetype": "text/x-python",
   "name": "python",
   "nbconvert_exporter": "python",
   "pygments_lexer": "ipython3",
   "version": "3.9.13"
  }
 },
 "nbformat": 4,
 "nbformat_minor": 5
}
