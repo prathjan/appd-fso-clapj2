{
 "cells": [
  {
   "cell_type": "markdown",
   "id": "0f53167e",
   "metadata": {},
   "source": [
    "## Terminating the sandbox\n",
    "\n",
    "TBD"
   ]
  },
  {
   "cell_type": "markdown",
   "id": "fdd41e3f",
   "metadata": {},
   "source": [
    "### Pre-execution steps\n",
    "\n",
    "Lets recall the API token created in the previous notebook. Hit Run to set the environment."
   ]
  },
  {
   "cell_type": "code",
   "execution_count": null,
   "id": "1e291a34",
   "metadata": {},
   "outputs": [],
   "source": [
    "import os\n",
    "%store -r appd_token\n",
    "%store -r base_url\n",
    "%store -r aws_key\n",
    "%store -r aws_secret\n",
    "%store -r aws_conn_name\n",
    "%store -r aws_conf_name\n",
    "\n",
    "os.environ['APPD_TOK'] = appd_token\n",
    "os.environ['BASE_URL'] = base_url\n",
    "os.environ['AWS_KEY'] = aws_key\n",
    "os.environ['AWS_SECRET'] = aws_secret\n",
    "os.environ['AWS_CONN_NAME'] = aws_conn_name\n",
    "os.environ['AWS_CONF_NAME'] = aws_conf_name\n",
    "print(\"Environment set\" + \"\\n\")"
   ]
  }
 ],
 "metadata": {
  "kernelspec": {
   "display_name": "Python 3 (ipykernel)",
   "language": "python",
   "name": "python3"
  },
  "language_info": {
   "codemirror_mode": {
    "name": "ipython",
    "version": 3
   },
   "file_extension": ".py",
   "mimetype": "text/x-python",
   "name": "python",
   "nbconvert_exporter": "python",
   "pygments_lexer": "ipython3",
   "version": "3.9.13"
  }
 },
 "nbformat": 4,
 "nbformat_minor": 5
}
