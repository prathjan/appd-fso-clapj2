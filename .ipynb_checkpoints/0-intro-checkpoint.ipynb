{
 "cells": [
  {
   "cell_type": "markdown",
   "id": "bdb2b333",
   "metadata": {},
   "source": [
    "# AppDynamics Cloud\n",
    "\n",
    "AppDynamics Cloud is a software-as-a-service (SaaS) product that offers cloud native and full-stack observability for large, managed Kubernetes deployments on public clouds (Amazon Web Services, Microsoft Azure, and Red Hat OpenShift). It provides real-time observability across your entire technology stack: applications, software-defined compute, storage, services, network, and other infrastructure, through the collection and correlation of metrics, events, logs, and traces (MELT).\n",
    "\n",
    "\n",
    "For more details on AppDynamics Cloud, please refer to the following documentation: https://docs.appdynamics.com/appd-cloud/en/about-appdynamics-cloud\n",
    "\n",
    "## Configuration Workflows\n",
    "\n",
    "There are two main workflows involved in setting up AppDynamics Cloud Deployment.\n",
    "\n",
    "There are two configuration workflows:\n",
    "\n",
    "    * Cloud Infrastructure Monitoring\n",
    "\n",
    "    * Kubernetes and App Service Monitoring\n",
    "    \n",
    "In this learning lab, let's explore AWS Cloud Infrastructure Monitoring.\n",
    "\n",
    "### Cloud Infrastructure Monitoring\n",
    "\n",
    "This workflow allows one to connnect to AWS and Azure Cloud Infrastructure. Cloud connections allow AppDynamics Cloud to put metrics data from Amazon CloudWatch and Azure Monitor. \n",
    "\n",
    "The focus of this lab is AWS and following AWS Infrastructure Services will be monitored:\n",
    "\n",
    "    * AWS Application, Classic, and Network Load Balancers\n",
    "    \n",
    "    * AWS Storage\n",
    "    \n",
    "    * AWS Databases\n",
    "    \n",
    "    * AWS Hosts\n",
    "    \n",
    "    * Amazon ECS\n",
    "    \n",
    "To Observe the above AWS Infrastructure Services, we have the following configuration workflows to be executed with AppDynamics Cloud API's in this learning lab:\n",
    "\n",
    "    * Generate API Token with Service Principal Client ID and Secret\n",
    "    \n",
    "    * Cloud Configuration Lifecycle\n",
    "    \n",
    "    * Cloud Connections Lifecycle\n",
    "    \n",
    "   "
   ]
  }
 ],
 "metadata": {
  "kernelspec": {
   "display_name": "Python 3 (ipykernel)",
   "language": "python",
   "name": "python3"
  },
  "language_info": {
   "codemirror_mode": {
    "name": "ipython",
    "version": 3
   },
   "file_extension": ".py",
   "mimetype": "text/x-python",
   "name": "python",
   "nbconvert_exporter": "python",
   "pygments_lexer": "ipython3",
   "version": "3.9.13"
  }
 },
 "nbformat": 4,
 "nbformat_minor": 5
}
