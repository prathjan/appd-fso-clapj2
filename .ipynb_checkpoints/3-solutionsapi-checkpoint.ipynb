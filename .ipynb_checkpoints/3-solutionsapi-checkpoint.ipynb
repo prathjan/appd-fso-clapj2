{
 "cells": [
  {
   "cell_type": "markdown",
   "id": "0f53167e",
   "metadata": {},
   "source": [
    "## Solution Management With APIs\n",
    "\n",
    "TBD\n",
    "    \n",
    "    \n",
    "After you click Run, executions in progress will be denoted by \"ln[*]\"\n",
    "\n",
    "PLEASE WAIT FOR EXECUTION TO COMPLETE."
   ]
  },
  {
   "cell_type": "markdown",
   "id": "fdd41e3f",
   "metadata": {},
   "source": [
    "### Pre-execution steps\n",
    "\n",
    "Lets recall the API token created in the previous notebook. Hit Run to set the environment."
   ]
  },
  {
   "cell_type": "code",
   "execution_count": null,
   "id": "1e291a34",
   "metadata": {},
   "outputs": [],
   "source": [
    "import os\n",
    "%store -r appd_token\n",
    "%store -r base_url\n",
    "%store -r aws_conf_name\n",
    "os.environ['APPD_TOK'] = appd_token\n",
    "os.environ['BASE_URL'] = base_url\n",
    "os.environ['CONF_NAME'] = aws_conf_name\n",
    "print(\"Globals set:\" + \"\\n\")\n",
    "print(\"API Token:\" + appd_token + \"\\n\")\n",
    "print(\"Base URL:\" + base_url + \"\\n\")\n",
    "print(\"Configuration Name:\" + aws_conf_name + \"\\n\")"
   ]
  },
  {
   "cell_type": "code",
   "execution_count": null,
   "id": "8a7182e4",
   "metadata": {},
   "outputs": [],
   "source": [
    "!fsoc solution unsubscribe spacefleet"
   ]
  },
  {
   "cell_type": "markdown",
   "id": "31f30c4e",
   "metadata": {},
   "source": [
    "### List Solutions\n",
    "\n",
    "TBD\n"
   ]
  },
  {
   "cell_type": "code",
   "execution_count": null,
   "id": "4d5914c5",
   "metadata": {},
   "outputs": [],
   "source": [
    "!fsoc version"
   ]
  },
  {
   "cell_type": "code",
   "execution_count": null,
   "id": "e1bc70b5",
   "metadata": {},
   "outputs": [],
   "source": [
    "!fsoc solution list -o json"
   ]
  },
  {
   "cell_type": "code",
   "execution_count": null,
   "id": "52cfa444",
   "metadata": {},
   "outputs": [],
   "source": [
    "!fsoc solution list -o json| jq -r '.items[] | select( .data.name == \"spacefleet\") | .data'"
   ]
  },
  {
   "cell_type": "code",
   "execution_count": null,
   "id": "a4c5eecc",
   "metadata": {},
   "outputs": [],
   "source": [
    "!fsoc solution status spacefleet\n"
   ]
  },
  {
   "cell_type": "code",
   "execution_count": null,
   "id": "58a09567",
   "metadata": {},
   "outputs": [],
   "source": [
    "!fsoc solution subscribe spacefleet"
   ]
  },
  {
   "cell_type": "code",
   "execution_count": null,
   "id": "63fd5fe8",
   "metadata": {},
   "outputs": [],
   "source": [
    "!fsoc solution list -o json| jq -r '.items[] | select( .data.name == \"spacefleet\") | .data'"
   ]
  },
  {
   "cell_type": "code",
   "execution_count": null,
   "id": "d755cdb7",
   "metadata": {},
   "outputs": [],
   "source": [
    "!fsoc solution status spacefleet\n"
   ]
  },
  {
   "cell_type": "code",
   "execution_count": null,
   "id": "94b792cd",
   "metadata": {},
   "outputs": [],
   "source": [
    "!fsoc solution init sample\n"
   ]
  },
  {
   "cell_type": "code",
   "execution_count": null,
   "id": "178e1227",
   "metadata": {},
   "outputs": [],
   "source": [
    "!ls sample"
   ]
  },
  {
   "cell_type": "code",
   "execution_count": null,
   "id": "2d1a4346",
   "metadata": {},
   "outputs": [],
   "source": [
    "!cat ./sample/manifest.json"
   ]
  },
  {
   "cell_type": "code",
   "execution_count": null,
   "id": "0ba0597e",
   "metadata": {},
   "outputs": [],
   "source": [
    "!echo \"{\\\n",
    "    \"manifestVersion\": \"1.0.0\",\\\n",
    "    \"name\": \"sample\",\\\n",
    "    \"solutionVersion\": \"1.0.0\",\\\n",
    "    \"dependencies\": [\"spacefleet\"],\\\n",
    "    \"description\": \"description of your solution\",\\\n",
    "    \"contact\": \"the email for this solution\\'s point of contact\",\\\n",
    "    \"homepage\": \"the url for this solution\\'s homepage\",\\\n",
    "    \"gitRepoUrl\": \"the url for the git repo holding your solution\",\\\n",
    "    \"readme\": \"the url for this solution\\'s readme file\"\\\n",
    "}\" > ./sample/manifest.json\n",
    "\n",
    "!!cat ./sample/manifest.json"
   ]
  }
 ],
 "metadata": {
  "kernelspec": {
   "display_name": "Python 3 (ipykernel)",
   "language": "python",
   "name": "python3"
  },
  "language_info": {
   "codemirror_mode": {
    "name": "ipython",
    "version": 3
   },
   "file_extension": ".py",
   "mimetype": "text/x-python",
   "name": "python",
   "nbconvert_exporter": "python",
   "pygments_lexer": "ipython3",
   "version": "3.9.13"
  }
 },
 "nbformat": 4,
 "nbformat_minor": 5
}
