{
 "cells": [
  {
   "cell_type": "markdown",
   "id": "0f53167e",
   "metadata": {},
   "source": [
    "## Knowledge Store With APIs\n",
    "\n",
    "TBD\n",
    "    \n",
    "After you click Run, executions in progress will be denoted by \"ln[*]\"\n",
    "\n",
    "PLEASE WAIT FOR EXECUTION TO COMPLETE."
   ]
  },
  {
   "cell_type": "markdown",
   "id": "fdd41e3f",
   "metadata": {},
   "source": [
    "### Pre-execution steps\n",
    "\n",
    "Lets recall the API token created in the previous notebook. Hit Run to set the environment."
   ]
  },
  {
   "cell_type": "code",
   "execution_count": null,
   "id": "1e291a34",
   "metadata": {},
   "outputs": [],
   "source": [
    "import os\n",
    "%store -r appd_token\n",
    "%store -r base_url\n",
    "%store -r aws_conf_name\n",
    "os.environ['APPD_TOK'] = appd_token\n",
    "os.environ['BASE_URL'] = base_url\n",
    "os.environ['CONF_NAME'] = aws_conf_name\n",
    "print(\"Globals set:\" + \"\\n\")\n",
    "print(\"API Token:\" + appd_token + \"\\n\")\n",
    "print(\"Base URL:\" + base_url + \"\\n\")\n",
    "print(\"Configuration Name:\" + aws_conf_name + \"\\n\")"
   ]
  },
  {
   "cell_type": "markdown",
   "id": "31f30c4e",
   "metadata": {},
   "source": [
    "### List Solution Status\n",
    "\n",
    "TBD\n"
   ]
  },
  {
   "cell_type": "code",
   "execution_count": null,
   "id": "a4c5eecc",
   "metadata": {},
   "outputs": [],
   "source": [
    "!fsoc solution status spacefleet\n"
   ]
  },
  {
   "cell_type": "code",
   "execution_count": null,
   "id": "58a09567",
   "metadata": {},
   "outputs": [],
   "source": [
    "!fsoc solution subscribe spacefleet"
   ]
  },
  {
   "cell_type": "code",
   "execution_count": null,
   "id": "d755cdb7",
   "metadata": {},
   "outputs": [],
   "source": [
    "!fsoc solution status spacefleet\n"
   ]
  },
  {
   "cell_type": "code",
   "execution_count": null,
   "id": "6e6d60a3",
   "metadata": {},
   "outputs": [],
   "source": [
    "!fsoc knowledge get --type extensibility:type --layer-type TENANT --filter \"data.solution eq \\\"spacefleet\\\"\" -o json\n",
    "    "
   ]
  },
  {
   "cell_type": "code",
   "execution_count": null,
   "id": "f400c8bb",
   "metadata": {},
   "outputs": [],
   "source": [
    "!fsoc knowledge get --type extensibility:type --layer-type TENANT --filter \"data.solution eq \\\"spacefleet\\\"\" -o json | jq -r '.items[] | .data.name'\n",
    "    \n",
    "    "
   ]
  },
  {
   "cell_type": "code",
   "execution_count": null,
   "id": "9f58d9ed",
   "metadata": {},
   "outputs": [],
   "source": [
    "!fsoc knowledge get --type spacefleet:fsoExchangeObject --layer-type TENANT "
   ]
  },
  {
   "cell_type": "code",
   "execution_count": null,
   "id": "f2730e11",
   "metadata": {},
   "outputs": [],
   "source": [
    "!fsoc knowledge get --type spacefleet:notdConfig --layer-type TENANT"
   ]
  },
  {
   "cell_type": "code",
   "execution_count": null,
   "id": "8c6d8a75",
   "metadata": {},
   "outputs": [],
   "source": [
    "!fsoc knowledge get --type spacefleet:torpedoState --layer-type TENANT"
   ]
  },
  {
   "cell_type": "code",
   "execution_count": null,
   "id": "5887062c",
   "metadata": {},
   "outputs": [],
   "source": [
    "!fsoc knowledge get --type spacefleet:starjournal --layer-type TENANT"
   ]
  },
  {
   "cell_type": "code",
   "execution_count": null,
   "id": "7f8843ca",
   "metadata": {},
   "outputs": [],
   "source": [
    "!fsoc knowledge get --type extensibility:type --layer-type TENANT --filter \"data.solution eq \\\"spacefleet\\\"\" -o json | jq -r '.items[] | select( .data.name == \"notdConfig\") |.data'\n"
   ]
  },
  {
   "cell_type": "code",
   "execution_count": null,
   "id": "44f5a4b9",
   "metadata": {},
   "outputs": [],
   "source": [
    "!echo \"{\\\n",
    "\\\"name\\\": \\\"perigonCfg\\\",\\\n",
    "\\\"api_key\\\": \\\"54137.......\\\"\\\n",
    "}\" > /tmp/data.json"
   ]
  },
  {
   "cell_type": "code",
   "execution_count": null,
   "id": "bb73e686",
   "metadata": {},
   "outputs": [],
   "source": [
    "!cat /tmp/data.json\n"
   ]
  },
  {
   "cell_type": "code",
   "execution_count": null,
   "id": "b2032099",
   "metadata": {},
   "outputs": [],
   "source": [
    "!fsoc knowledge create --layer-type TENANT --layer-id c4a179c3-14e8-47fb-b0ba-d49c2ad25981 --type spacefleet:notdConfig --object-file /tmp/data.json\n",
    "    \n",
    "    \n",
    "    "
   ]
  },
  {
   "cell_type": "code",
   "execution_count": null,
   "id": "669c8dba",
   "metadata": {},
   "outputs": [],
   "source": [
    "!echo \"{\\\n",
    "\\\"name\\\": \\\"nbcCfg\\\",\\\n",
    "\\\"api_key\\\": \\\"54137.....\\\"\\\n",
    "}\" > /tmp/data.json"
   ]
  },
  {
   "cell_type": "code",
   "execution_count": null,
   "id": "4bf5ca2b",
   "metadata": {},
   "outputs": [],
   "source": [
    "!cat /tmp/data.json"
   ]
  },
  {
   "cell_type": "code",
   "execution_count": null,
   "id": "62296003",
   "metadata": {},
   "outputs": [],
   "source": [
    "!fsoc knowledge create --layer-type TENANT --layer-id c4a179c3-14e8-47fb-b0ba-d49c2ad25981 --type spacefleet:notdConfig --object-file /tmp/data.json\n",
    "    \n",
    "    \n",
    "    "
   ]
  },
  {
   "cell_type": "code",
   "execution_count": null,
   "id": "193bf818",
   "metadata": {},
   "outputs": [],
   "source": [
    "!fsoc knowledge get --type spacefleet:notdConfig --layer-type TENANT"
   ]
  },
  {
   "cell_type": "markdown",
   "id": "5104aaf6",
   "metadata": {},
   "source": [
    "## Next Steps\n",
    "\n",
    "TBD"
   ]
  }
 ],
 "metadata": {
  "kernelspec": {
   "display_name": "Python 3 (ipykernel)",
   "language": "python",
   "name": "python3"
  },
  "language_info": {
   "codemirror_mode": {
    "name": "ipython",
    "version": 3
   },
   "file_extension": ".py",
   "mimetype": "text/x-python",
   "name": "python",
   "nbconvert_exporter": "python",
   "pygments_lexer": "ipython3",
   "version": "3.9.13"
  }
 },
 "nbformat": 4,
 "nbformat_minor": 5
}
