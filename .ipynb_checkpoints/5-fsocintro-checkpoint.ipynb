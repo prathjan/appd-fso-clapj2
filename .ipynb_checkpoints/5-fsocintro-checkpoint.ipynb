{
 "cells": [
  {
   "cell_type": "markdown",
   "id": "0f53167e",
   "metadata": {},
   "source": [
    "## Subscription and Review of Intersight FSO Solution Using FSOC\n",
    "\n",
    "The FSO Platform offers a command line interface that helps developers manage their solution's lifecycle and interact with the core services and solutions currently available in the platform.\n",
    "\n",
    "With the **fsoc** command-line utility, you can execute basic solution lifecycle commands to build, deploy, subscribe, and test your solution. You can find more details here:\n",
    "\n",
    "https://developer.cisco.com/docs/fso/#!install-and-configure-fsoc/install-and-configure-fsoc\n",
    "\n",
    "**As part of the case study being addressed in this lab, we have provided you with a sample pre-created FSO Solution in the sandbox. In this exercise, you will execute some fsoc commands related to solutions already uploaded and subscribed for you.**\n",
    "\n",
    "**Note that this tenant is limited to certain fsoc commands. You will not be able to upload or subscribe your solution. We will cover the commands here but you will not be able to execute them for the tenant provided to you**\n",
    "\n",
    "**You will see the command only described if you cannot execute. You will be able to execute commands in Code blocks that have the Run button. **\n",
    "\n",
    "    * List All solutions available to your tenant\n",
    "    \n",
    "    * Validate the solution\n",
    "    \n",
    "    * Upload the solution\n",
    "    \n",
    "    * Subscribe to the solution\n",
    "    \n",
    "    * Check status of the solution\n",
    "    \n",
    "    \n",
    "After you click Run, executions in progress will be denoted by \"ln[*]\"\n",
    "\n",
    "PLEASE WAIT FOR EXECUTION TO COMPLETE."
   ]
  },
  {
   "cell_type": "markdown",
   "id": "fdd41e3f",
   "metadata": {},
   "source": [
    "### Pre-execution steps\n",
    "\n",
    "Before executing **fsoc** commands, we will use the basic service principal to initialize the tool."
   ]
  },
  {
   "cell_type": "code",
   "execution_count": null,
   "id": "1e291a34",
   "metadata": {},
   "outputs": [],
   "source": [
    "import os\n",
    "%store -r clientsecret\n",
    "%store -r clientid\n",
    "%store -r solution\n",
    "\n",
    "os.environ['clientid'] = clientid\n",
    "os.environ['clientsecret'] = clientsecret\n",
    "os.environ['solution'] = solution"
   ]
  },
  {
   "cell_type": "code",
   "execution_count": null,
   "id": "48bf57a1",
   "metadata": {},
   "outputs": [],
   "source": [
    "%cd solutiontmpltf\n",
    "!terraform init\n",
    "!terraform apply -auto-approve -var=\"svcsecret=$clientsecret\" -var=\"endpoint=$clientid\" -var=\"token=$solution\"\n",
    "%cd ../solution\n"
   ]
  },
  {
   "cell_type": "markdown",
   "id": "31f30c4e",
   "metadata": {},
   "source": [
    "### List All solutions available to your tenant\n"
   ]
  },
  {
   "cell_type": "code",
   "execution_count": null,
   "id": "9e7001f0",
   "metadata": {},
   "outputs": [],
   "source": [
    "!fsoc solution list"
   ]
  },
  {
   "cell_type": "markdown",
   "id": "a5087f31",
   "metadata": {},
   "source": [
    "### Validate the solution\n",
    "\n",
    "You will not have permissions in this tenant to exercise this command. This is a sample of what the validate command of a solution outputs. You will execute this in your solution directory.\n"
   ]
  },
  {
   "cell_type": "markdown",
   "id": "6c967892",
   "metadata": {},
   "source": [
    "#### Sample Execution\n",
    "\n",
    "\n",
    "    $ fsoc solution validate --stable\n",
    "    Creating solution zip: \"/var/folders/tq/433ms2_17n16drl4fvc_l1b40000gn/T/solution4078322956.zip\"\n",
    "    Validating solution labsol version 0.2.16 with tag stable\n",
    "    Successfully validated solution labsol version 0.2.16 with tag stable.\n",
    "    $ \n",
    "\n"
   ]
  },
  {
   "cell_type": "markdown",
   "id": "735bd00c",
   "metadata": {},
   "source": [
    "### Upload the solution\n",
    "\n",
    "You will not have permissions in this tenant to exercise this command. This is a sample of what the push command of a solution outputs. You will execute this in your solution directory.\n"
   ]
  },
  {
   "cell_type": "markdown",
   "id": "288cd468",
   "metadata": {},
   "source": [
    "#### Sample Execution\n",
    "\n",
    "\n",
    "    $ fsoc solution push --stable\n",
    "    Creating solution zip: \"/var/folders/tq/433ms2_17n16drl4fvc_l1b40000gn/T/solution1647549622.zip\"\n",
    "    Deploying solution labsol version 0.2.16 with tag stable\n",
    "    Successfully uploaded solution labsol version 0.2.16 with tag stable.\n",
    "    $ \n"
   ]
  },
  {
   "cell_type": "markdown",
   "id": "917be2a0",
   "metadata": {},
   "source": [
    "### Subscribe to the solution\n",
    "\n",
    "You will not have permissions in this tenant to exercise this command. This is a sample of what the subscribe command of a solution outputs. You will execute this in your solution directory."
   ]
  },
  {
   "cell_type": "markdown",
   "id": "f6cee92d",
   "metadata": {},
   "source": [
    "#### Sample Execution\n",
    "    \n",
    "    $ fsoc solution subscribe labsol\n",
    "    Tenant c4a179c3-14e8-47fb-b0ba-d49c2ad25981 has successfully subscribed to solution labsol\n",
    "    $ \n"
   ]
  },
  {
   "cell_type": "markdown",
   "id": "96279da3",
   "metadata": {},
   "source": [
    "### Check in solution list\n",
    "\n",
    "Now that you have subscribed to the solution, check for the solution in the solution list.\n"
   ]
  },
  {
   "cell_type": "code",
   "execution_count": null,
   "id": "02779527",
   "metadata": {},
   "outputs": [],
   "source": [
    "!fsoc solution list | grep $solution\n"
   ]
  },
  {
   "cell_type": "markdown",
   "id": "9a260b59",
   "metadata": {},
   "source": [
    "### Check status of solution\n",
    "\n",
    "Now that you have subscribed to the solution, check the status of the solution. You should see something like this:\n",
    "\n",
    "    $ fsoc solution status labsol\n",
    "    Solution Name: labsol\n",
    "    Solution Subscription Status: Subscribed\n",
    "    Current Solution Upload Version: 0.2.16\n",
    "    Current Solution Upload Timestamp: 2023-11-02T22:27:08.854Z\n",
    "    Last Successful Install Version: 0.2.16\n",
    "    Current Solution Install Version: 0.2.16\n",
    "    Current Solution Install Successful?: true\n",
    "    Current Solution Install Time: 2023-11-02T22:40:58.143Z\n",
    "    Current Solution Install Message: \n"
   ]
  },
  {
   "cell_type": "code",
   "execution_count": null,
   "id": "6788378f",
   "metadata": {},
   "outputs": [],
   "source": [
    "!fsoc solution status $solution\n"
   ]
  },
  {
   "cell_type": "markdown",
   "id": "58fb8d99",
   "metadata": {},
   "source": [
    "### Review Intersight FSO Solution in FSO Platform\n",
    "\n",
    "    * review entity model\n",
    "    \n",
    "    * review mapping of MELT data to entity model\n",
    "    \n",
    "    * review DashUI Templates and Data Binding\n",
    "    \n",
    "    * review Dashboards precreated\n",
    "    \n",
    "    \n",
    " TBD\n"
   ]
  }
 ],
 "metadata": {
  "kernelspec": {
   "display_name": "Python 3 (ipykernel)",
   "language": "python",
   "name": "python3"
  },
  "language_info": {
   "codemirror_mode": {
    "name": "ipython",
    "version": 3
   },
   "file_extension": ".py",
   "mimetype": "text/x-python",
   "name": "python",
   "nbconvert_exporter": "python",
   "pygments_lexer": "ipython3",
   "version": "3.9.13"
  }
 },
 "nbformat": 4,
 "nbformat_minor": 5
}
