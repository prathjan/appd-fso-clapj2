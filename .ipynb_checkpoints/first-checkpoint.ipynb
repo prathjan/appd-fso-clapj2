{
 "cells": [
  {
   "cell_type": "markdown",
   "id": "ca55f965",
   "metadata": {},
   "source": [
    "# AppDynamics Cloud\n",
    "\n",
    "AppDynamics Cloud is a software-as-a-service (SaaS) product that offers cloud native and full-stack observability for large, managed Kubernetes deployments on public clouds (Amazon Web Services, Microsoft Azure, and Red Hat OpenShift). It provides real-time observability across your entire technology stack: applications, software-defined compute, storage, services, network, and other infrastructure, through the collection and correlation of metrics, events, logs, and traces (MELT).\n",
    "\n",
    "For more details on AppDynamics Cloud, please refer to the following documentation: https://docs.appdynamics.com/appd-cloud/en/about-appdynamics-cloud\n",
    "\n",
    "## Basic data types\n",
    "\n",
    "| Python </br> `type()` | Values                    |\n",
    "|:----------------------|:--------------------------|\n",
    "| `int`                 | -128, 0, 42               |\n",
    "| `float`               | -1.12, 0, 3.14159         |\n",
    "| `bool`                | True, False               |\n",
    "| `str`                 | \"Hello 😎\"                |\n",
    "| `bytes`               | b\"Hello \\xf0\\x9f\\x98\\x8e\" |\n",
    "\n",
    "As you would expect, Python has a basic data type to store any value you need. It also has a full set of operators to work with these numeric and string types.\n",
    "\n",
    "| Numeric Operators      | String Operators   |\n",
    "|:-----------------------|:-------------------|\n",
    "| `+` Addition           | `+` Concatenation  |\n",
    "| `-` Subtraction        | `*` Multiplication |\n",
    "| `*` Multiplication     |                    |\n",
    "| `/` Division           |                    |\n",
    "| `//` Floor Division    |                    |\n",
    "| `%` Modulo (remainder) |                    |\n",
    "| `**` Power             |                    |\n",
    "\n",
    "Python is introspective. You can see what type of data something is with the `type()` function. For example, enterimng `type(3)` returns `<class 'int'>`. Can't remember what Python's string data type is called? Just ask it, `type(\"What is this?\")` and it will tell you `<class 'str'>`.\n",
    "\n",
    "_**Try playing with some of these in your interactive interpreter.**_\n",
    "\n",
    "> **Note:** You could use the Python interactive shell as a powerful calculator. Python is used by mathematicians and scientists, and is capable of doing high-precision and complex mathematical operations (or you could use it to calculate the tip for your pizza order). Enter `2+2` and Python returns `4`.\n",
    "\n",
    "### Strings\n",
    "\n",
    "In Python v3 all strings (`str`) are Unicode strings and therefore can store and work with multi-byte Unicode characters.  Note that not all Terminals or platforms support these extended character sets, so use them at your own risk, but Python supports them - hopefully everything else will catch up.\n",
    "\n",
    "You can use any of the following to open and close a string:\n",
    "\n",
    "* Single Quotes `' '`\n",
    "* Double Quotes `\" \"`\n",
    "* Triple Single Quotes `''' '''`\n",
    "* Triple Double Quotes `\"\"\" \"\"\"`\n",
    "\n",
    "_Why all the options?_  The ability to use single or double quotes as string delineators makes it easier for you to create strings that may contain quotation marks.  For example, if you want to include double quotes inside your string, open and close the string with single quotes and vice versa."
   ]
  }
 ],
 "metadata": {
  "kernelspec": {
   "display_name": "Python 3 (ipykernel)",
   "language": "python",
   "name": "python3"
  },
  "language_info": {
   "codemirror_mode": {
    "name": "ipython",
    "version": 3
   },
   "file_extension": ".py",
   "mimetype": "text/x-python",
   "name": "python",
   "nbconvert_exporter": "python",
   "pygments_lexer": "ipython3",
   "version": "3.9.13"
  }
 },
 "nbformat": 4,
 "nbformat_minor": 5
}
