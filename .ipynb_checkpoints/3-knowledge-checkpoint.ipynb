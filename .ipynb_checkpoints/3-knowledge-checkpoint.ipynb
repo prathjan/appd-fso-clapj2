{
 "cells": [
  {
   "cell_type": "markdown",
   "id": "0f53167e",
   "metadata": {},
   "source": [
    "## Knowledge Store\n",
    "\n",
    "All cloud connections must be associated with a configuration object. The configuration process allows you to limit data collection to specific cloud services, regions, and resource groups.\n",
    "\n",
    "Let's explore the following API's to exercise the lifecycle of the configuration object: https://developer.cisco.com/docs/appdynamics/cloud-connection/#!api-reference\n",
    "\n",
    "Lets exercise the configuration object lifecycle:\n",
    "\n",
    "    * Pre-execution steps\n",
    "    \n",
    "    * List Solutions \n",
    "    \n",
    "    * Query Cloud Regions \n",
    "\n",
    "    * Query Configurations\n",
    "    \n",
    "    * Create Configurations\n",
    "    \n",
    "    * Get a Configuration\n",
    "    \n",
    "    * Update a Configuration\n",
    "    \n",
    "    * Delete a Configuration\n",
    "    \n",
    "    \n",
    "After you click Run, executions in progress will be denoted by \"ln[*]\"\n",
    "\n",
    "PLEASE WAIT FOR EXECUTION TO COMPLETE."
   ]
  },
  {
   "cell_type": "markdown",
   "id": "fdd41e3f",
   "metadata": {},
   "source": [
    "### Pre-execution steps\n",
    "\n",
    "Lets recall the API token created in the previous notebook. Hit Run to set the environment."
   ]
  },
  {
   "cell_type": "code",
   "execution_count": null,
   "id": "1e291a34",
   "metadata": {},
   "outputs": [],
   "source": [
    "import os\n",
    "%store -r appd_token\n",
    "%store -r base_url\n",
    "%store -r aws_conf_name\n",
    "os.environ['APPD_TOK'] = appd_token\n",
    "os.environ['BASE_URL'] = base_url\n",
    "os.environ['CONF_NAME'] = aws_conf_name\n",
    "print(\"Globals set:\" + \"\\n\")\n",
    "print(\"API Token:\" + appd_token + \"\\n\")\n",
    "print(\"Base URL:\" + base_url + \"\\n\")\n",
    "print(\"Configuration Name:\" + aws_conf_name + \"\\n\")"
   ]
  },
  {
   "cell_type": "markdown",
   "id": "31f30c4e",
   "metadata": {},
   "source": [
    "### List Solutions\n",
    "\n",
    "AppDynamics Cloud as of now supports a subset of the services offered by AWS and Azure. Run the following query to get a list services supported.\n"
   ]
  },
  {
   "cell_type": "code",
   "execution_count": 41,
   "id": "a4c5eecc",
   "metadata": {},
   "outputs": [
    {
     "name": "stdout",
     "output_type": "stream",
     "text": [
      "\u001b[K\u001b[F\u001b[K\u001b[32m✓\u001b[0m Platform API call (GET /objstore/v1beta/objects/extensibility:solutionRelease?order=desc&filter=data.solutionName+eq+%22spacefleet%22&max=1)ess\u001b[?25h\n",
      "\u001b[K\u001b[F\u001b[K\u001b[32m✓\u001b[0m Platform API call (GET /objstore/v1beta/objects/extensibility:solutionInstall?order=desc&filter=data.solutionName+eq+%22spacefleet%22&max=1)ess\u001b[?25h\n",
      "               Solution Name: \n",
      "     Solution Upload Version: \n",
      "            Upload Timestamp: \n",
      "    Solution Install Version: \n",
      "Solution Install Successful?: false\n",
      "       Solution Install Time: \n",
      "    Solution Install Message: \n",
      "\n"
     ]
    }
   ],
   "source": [
    "!fsoc solution status spacefleet\n"
   ]
  },
  {
   "cell_type": "code",
   "execution_count": 42,
   "id": "58a09567",
   "metadata": {},
   "outputs": [
    {
     "name": "stdout",
     "output_type": "stream",
     "text": [
      "\u001b[K\u001b[F\u001b[K\u001b[32m✓\u001b[0m Platform API call (PATCH /objstore/v1beta/objects/extensibility:solution/spacefleet)ess\u001b[?25h\n",
      "Tenant c4a179c3-14e8-47fb-b0ba-d49c2ad25981 has successfully subscribed to solution spacefleet\n"
     ]
    }
   ],
   "source": [
    "!fsoc solution subscribe spacefleet"
   ]
  },
  {
   "cell_type": "code",
   "execution_count": 47,
   "id": "d755cdb7",
   "metadata": {},
   "outputs": [
    {
     "name": "stdout",
     "output_type": "stream",
     "text": [
      "\u001b[K\u001b[F\u001b[K\u001b[33m\u001b[1m   •\u001b[0m Current token is no longer valid; trying to refresh\u001b[0melease?order=desc&filter=data.solutionName+eq+%22spacefleet%22&max=1) in progress\u001b[?25h\n",
      "\u001b[K\u001b[32m✓\u001b[0m Exchange service principal for auth token progress\u001b[?25h\n",
      "\u001b[K\u001b[F\u001b[K\u001b[F\u001b[K\u001b[32m✓\u001b[0m Platform API call, retry after login (GET /objstore/v1beta/objects/extensibility:solutionRelease?order=desc&filter=data.solutionName+eq+%22spacefleet%22&max=1)25h\n",
      "\u001b[K\u001b[F\u001b[K\u001b[32m✓\u001b[0m Platform API call (GET /objstore/v1beta/objects/extensibility:solutionInstall?order=desc&filter=data.solutionName+eq+%22spacefleet%22&max=1)ess\u001b[?25h\n",
      "               Solution Name: spacefleet\n",
      "     Solution Upload Version: 0.0.300\n",
      "            Upload Timestamp: 2023-04-20T13:43:55.186Z\n",
      "    Solution Install Version: 0.0.300\n",
      "Solution Install Successful?: true\n",
      "       Solution Install Time: 2023-04-20T16:44:16.046Z\n",
      "    Solution Install Message: \n",
      "\n"
     ]
    }
   ],
   "source": [
    "!fsoc solution status spacefleet\n"
   ]
  },
  {
   "cell_type": "code",
   "execution_count": 45,
   "id": "6e6d60a3",
   "metadata": {},
   "outputs": [
    {
     "name": "stdout",
     "output_type": "stream",
     "text": [
      "\u001b[K\u001b[F\u001b[K\u001b[32m✓\u001b[0m Platform API call (GET /objstore/v1beta/objects/extensibility:type?filter=data.solution+eq+%22spacefleet%22)ess\u001b[?25h\n",
      "{\n",
      "    \"items\": [\n",
      "        {\n",
      "            \"createdAt\": \"2023-04-13T14:30:06.486Z\",\n",
      "            \"data\": {\n",
      "                \"allowedLayers\": [\n",
      "                    \"TENANT\"\n",
      "                ],\n",
      "                \"allowedObjectFragments\": false,\n",
      "                \"idGeneration\": {\n",
      "                    \"generateRandomId\": false,\n",
      "                    \"idGenerationMechanism\": \"{{layer.id}}:{{object.name}}\"\n",
      "                },\n",
      "                \"jsonSchema\": {\n",
      "                    \"$schema\": \"http://json-schema.org/draft-07/schema#\",\n",
      "                    \"additionalProperties\": false,\n",
      "                    \"description\": \"Type for storing config for calling the news of the day service\",\n",
      "                    \"properties\": {\n",
      "                        \"api_key\": {\n",
      "                            \"description\": \"Api Key for news endpoint\",\n",
      "                            \"type\": \"string\"\n",
      "                        },\n",
      "                        \"name\": {\n",
      "                            \"description\": \"Config Name\",\n",
      "                            \"type\": \"string\"\n",
      "                        }\n",
      "                    },\n",
      "                    \"required\": [\n",
      "                        \"name\",\n",
      "                        \"api_key\"\n",
      "                    ],\n",
      "                    \"title\": \"NewsOfTheDayConfig\",\n",
      "                    \"type\": \"object\"\n",
      "                },\n",
      "                \"name\": \"notdConfig\",\n",
      "                \"secureProperties\": [\n",
      "                    \"$.api_key\"\n",
      "                ],\n",
      "                \"solution\": \"spacefleet\"\n",
      "            },\n",
      "            \"id\": \"spacefleet:notdConfig\",\n",
      "            \"layerId\": \"extensibility\",\n",
      "            \"layerType\": \"SOLUTION\",\n",
      "            \"objectMimeType\": \"application/json\",\n",
      "            \"objectType\": \"extensibility:type\",\n",
      "            \"objectVersion\": 1,\n",
      "            \"patch\": null,\n",
      "            \"targetObjectId\": null,\n",
      "            \"updatedAt\": \"2023-04-13T14:30:06.486Z\"\n",
      "        },\n",
      "        {\n",
      "            \"createdAt\": \"2023-04-13T14:30:06.492Z\",\n",
      "            \"data\": {\n",
      "                \"allowedLayers\": [\n",
      "                    \"SOLUTION\",\n",
      "                    \"TENANT\"\n",
      "                ],\n",
      "                \"allowedObjectFragments\": false,\n",
      "                \"idGeneration\": {\n",
      "                    \"generateRandomId\": false,\n",
      "                    \"idGenerationMechanism\": \"{{layer.id}}:{{object.spacecraft_name}}:{{object.torpedo_tube_id}}\"\n",
      "                },\n",
      "                \"jsonSchema\": {\n",
      "                    \"$schema\": \"http://json-schema.org/draft-07/schema#\",\n",
      "                    \"additionalProperties\": false,\n",
      "                    \"description\": \"Definition of a type of Torpedo State\",\n",
      "                    \"properties\": {\n",
      "                        \"count\": {\n",
      "                            \"description\": \"Count\",\n",
      "                            \"type\": \"integer\"\n",
      "                        },\n",
      "                        \"spacecraft_name\": {\n",
      "                            \"description\": \"Spacecraft Name\",\n",
      "                            \"type\": \"string\"\n",
      "                        },\n",
      "                        \"torpedo_tube_id\": {\n",
      "                            \"description\": \"Torpedo Tube Id\",\n",
      "                            \"type\": \"string\"\n",
      "                        }\n",
      "                    },\n",
      "                    \"required\": [\n",
      "                        \"spacecraft_name\",\n",
      "                        \"torpedo_tube_id\",\n",
      "                        \"count\"\n",
      "                    ],\n",
      "                    \"title\": \"TorpedoState\",\n",
      "                    \"type\": \"object\"\n",
      "                },\n",
      "                \"name\": \"torpedoState\",\n",
      "                \"solution\": \"spacefleet\"\n",
      "            },\n",
      "            \"id\": \"spacefleet:torpedoState\",\n",
      "            \"layerId\": \"extensibility\",\n",
      "            \"layerType\": \"SOLUTION\",\n",
      "            \"objectMimeType\": \"application/json\",\n",
      "            \"objectType\": \"extensibility:type\",\n",
      "            \"objectVersion\": 1,\n",
      "            \"patch\": null,\n",
      "            \"targetObjectId\": null,\n",
      "            \"updatedAt\": \"2023-04-13T14:30:06.492Z\"\n",
      "        },\n",
      "        {\n",
      "            \"createdAt\": \"2023-04-13T14:30:06.498Z\",\n",
      "            \"data\": {\n",
      "                \"allowedLayers\": [\n",
      "                    \"SOLUTION\",\n",
      "                    \"TENANT\"\n",
      "                ],\n",
      "                \"allowedObjectFragments\": false,\n",
      "                \"blobProperties\": [\n",
      "                    \"$.image\"\n",
      "                ],\n",
      "                \"idGeneration\": {\n",
      "                    \"generateRandomId\": false,\n",
      "                    \"idGenerationMechanism\": \"{{layer.id}}:{{object.name}}\"\n",
      "                },\n",
      "                \"jsonSchema\": {\n",
      "                    \"$schema\": \"http://json-schema.org/draft-07/schema#\",\n",
      "                    \"additionalProperties\": false,\n",
      "                    \"description\": \"Definition of a type of StarJournal\",\n",
      "                    \"properties\": {\n",
      "                        \"image\": {\n",
      "                            \"contentEncoding\": \"base64\",\n",
      "                            \"description\": \"Image for the journal\",\n",
      "                            \"type\": \"string\"\n",
      "                        },\n",
      "                        \"instrument\": {\n",
      "                            \"description\": \"Instrument used for measurement\",\n",
      "                            \"type\": \"string\"\n",
      "                        },\n",
      "                        \"journal\": {\n",
      "                            \"description\": \"Journal entry\",\n",
      "                            \"type\": \"string\"\n",
      "                        },\n",
      "                        \"magnification\": {\n",
      "                            \"description\": \"Magnfication factor\",\n",
      "                            \"type\": \"integer\"\n",
      "                        },\n",
      "                        \"name\": {\n",
      "                            \"description\": \"Journal entry name\",\n",
      "                            \"type\": \"string\"\n",
      "                        }\n",
      "                    },\n",
      "                    \"required\": [\n",
      "                        \"name\",\n",
      "                        \"journal\"\n",
      "                    ],\n",
      "                    \"title\": \"StarJournal\",\n",
      "                    \"type\": \"object\"\n",
      "                },\n",
      "                \"name\": \"starjournal\",\n",
      "                \"solution\": \"spacefleet\"\n",
      "            },\n",
      "            \"id\": \"spacefleet:starjournal\",\n",
      "            \"layerId\": \"extensibility\",\n",
      "            \"layerType\": \"SOLUTION\",\n",
      "            \"objectMimeType\": \"application/json\",\n",
      "            \"objectType\": \"extensibility:type\",\n",
      "            \"objectVersion\": 1,\n",
      "            \"patch\": null,\n",
      "            \"targetObjectId\": null,\n",
      "            \"updatedAt\": \"2023-04-13T14:30:06.498Z\"\n",
      "        },\n",
      "        {\n",
      "            \"createdAt\": \"2023-04-13T14:30:06.503Z\",\n",
      "            \"data\": {\n",
      "                \"allowedLayers\": [\n",
      "                    \"SOLUTION\",\n",
      "                    \"TENANT\"\n",
      "                ],\n",
      "                \"allowedObjectFragments\": false,\n",
      "                \"idGeneration\": {\n",
      "                    \"generateRandomId\": false,\n",
      "                    \"idGenerationMechanism\": \"{{layer.id}}:{{object.name}}\"\n",
      "                },\n",
      "                \"jsonSchema\": {\n",
      "                    \"$schema\": \"http://json-schema.org/draft-07/schema#\",\n",
      "                    \"additionalProperties\": false,\n",
      "                    \"description\": \"Definition of an FSO Exchange Object\",\n",
      "                    \"properties\": {\n",
      "                        \"description\": {\n",
      "                            \"description\": \"solution description\",\n",
      "                            \"type\": \"string\"\n",
      "                        },\n",
      "                        \"name\": {\n",
      "                            \"description\": \"name of the solution\",\n",
      "                            \"type\": \"string\"\n",
      "                        },\n",
      "                        \"thumbnail_url\": {\n",
      "                            \"description\": \"Thumbnail URL\",\n",
      "                            \"type\": \"string\"\n",
      "                        }\n",
      "                    },\n",
      "                    \"required\": [\n",
      "                        \"name\",\n",
      "                        \"description\"\n",
      "                    ],\n",
      "                    \"title\": \"FSO Exchange Object\",\n",
      "                    \"type\": \"object\"\n",
      "                },\n",
      "                \"name\": \"fsoExchangeObject\",\n",
      "                \"solution\": \"spacefleet\"\n",
      "            },\n",
      "            \"id\": \"spacefleet:fsoExchangeObject\",\n",
      "            \"layerId\": \"extensibility\",\n",
      "            \"layerType\": \"SOLUTION\",\n",
      "            \"objectMimeType\": \"application/json\",\n",
      "            \"objectType\": \"extensibility:type\",\n",
      "            \"objectVersion\": 1,\n",
      "            \"patch\": null,\n",
      "            \"targetObjectId\": null,\n",
      "            \"updatedAt\": \"2023-04-13T14:30:06.503Z\"\n",
      "        }\n",
      "    ],\n",
      "    \"total\": 4\n",
      "}\n"
     ]
    }
   ],
   "source": [
    "!fsoc knowledge get --type extensibility:type --layer-type TENANT --filter \"data.solution eq \\\"spacefleet\\\"\" -o json\n",
    "    "
   ]
  },
  {
   "cell_type": "code",
   "execution_count": 75,
   "id": "f400c8bb",
   "metadata": {},
   "outputs": [
    {
     "name": "stdout",
     "output_type": "stream",
     "text": [
      "\u001b[K\u001b[F\u001b[K   • Current token is no longer valid; trying to refreshype?filter=data.solution+eq+%22spacefleet%22) in progress\u001b[?25h\n",
      "\u001b[K✓ Exchange service principal for auth token progress\u001b[?25h\n",
      "\u001b[K\u001b[F\u001b[K✓ Platform API call, retry after login (GET /objstore/v1beta/objects/extensibility:type?filter=data.solution+eq+%22spacefleet%22)ess\u001b[?25h\n",
      "notdConfig\n",
      "torpedoState\n",
      "starjournal\n",
      "fsoExchangeObject\n"
     ]
    }
   ],
   "source": [
    "!fsoc knowledge get --type extensibility:type --layer-type TENANT --filter \"data.solution eq \\\"spacefleet\\\"\" -o json | jq -r '.items[] | .data.name'\n",
    "    \n",
    "    "
   ]
  },
  {
   "cell_type": "code",
   "execution_count": 77,
   "id": "9f58d9ed",
   "metadata": {},
   "outputs": [
    {
     "name": "stdout",
     "output_type": "stream",
     "text": [
      "\u001b[K\u001b[F\u001b[K\u001b[32m✓\u001b[0m Platform API call (GET /objstore/v1beta/objects/spacefleet:fsoExchangeObject)ess\u001b[?25h\n",
      "items: []\n",
      "total: 0\n"
     ]
    }
   ],
   "source": [
    "!fsoc knowledge get --type spacefleet:fsoExchangeObject --layer-type TENANT "
   ]
  },
  {
   "cell_type": "code",
   "execution_count": 17,
   "id": "f2730e11",
   "metadata": {},
   "outputs": [
    {
     "name": "stdout",
     "output_type": "stream",
     "text": [
      "\u001b[K\u001b[F\u001b[K\u001b[32m✓\u001b[0m Platform API call (GET /objstore/v1beta/objects/spacefleet:notdConfig)ess\u001b[?25h\n",
      "items:\n",
      "    - createdAt: \"2023-04-20T23:09:33.417Z\"\n",
      "      data:\n",
      "        api_key: '**********'\n",
      "        name: perigonCfg\n",
      "      id: c4a179c3-14e8-47fb-b0ba-d49c2ad25981:perigonCfg\n",
      "      layerId: c4a179c3-14e8-47fb-b0ba-d49c2ad25981\n",
      "      layerType: TENANT\n",
      "      objectMimeType: application/json\n",
      "      objectType: spacefleet:notdConfig\n",
      "      objectVersion: 1\n",
      "      patch: null\n",
      "      targetObjectId: null\n",
      "      updatedAt: \"2023-04-20T23:09:33.417Z\"\n",
      "    - createdAt: \"2023-04-20T23:35:56.458Z\"\n",
      "      data:\n",
      "        api_key: '**********'\n",
      "        name: nbcCfg\n",
      "      id: c4a179c3-14e8-47fb-b0ba-d49c2ad25981:nbcCfg\n",
      "      layerId: c4a179c3-14e8-47fb-b0ba-d49c2ad25981\n",
      "      layerType: TENANT\n",
      "      objectMimeType: application/json\n",
      "      objectType: spacefleet:notdConfig\n",
      "      objectVersion: 1\n",
      "      patch: null\n",
      "      targetObjectId: null\n",
      "      updatedAt: \"2023-04-20T23:35:56.458Z\"\n",
      "total: 2\n"
     ]
    }
   ],
   "source": [
    "!fsoc knowledge get --type spacefleet:notdConfig --layer-type TENANT"
   ]
  },
  {
   "cell_type": "code",
   "execution_count": 79,
   "id": "8c6d8a75",
   "metadata": {},
   "outputs": [
    {
     "name": "stdout",
     "output_type": "stream",
     "text": [
      "\u001b[K\u001b[F\u001b[K\u001b[32m✓\u001b[0m Platform API call (GET /objstore/v1beta/objects/spacefleet:torpedoState)ess\u001b[?25h\n",
      "items: []\n",
      "total: 0\n"
     ]
    }
   ],
   "source": [
    "!fsoc knowledge get --type spacefleet:torpedoState --layer-type TENANT"
   ]
  },
  {
   "cell_type": "code",
   "execution_count": 80,
   "id": "5887062c",
   "metadata": {},
   "outputs": [
    {
     "name": "stdout",
     "output_type": "stream",
     "text": [
      "\u001b[K\u001b[F\u001b[K\u001b[32m✓\u001b[0m Platform API call (GET /objstore/v1beta/objects/spacefleet:starjournal)ess\u001b[?25h\n",
      "items: []\n",
      "total: 0\n"
     ]
    }
   ],
   "source": [
    "!fsoc knowledge get --type spacefleet:starjournal --layer-type TENANT"
   ]
  },
  {
   "cell_type": "code",
   "execution_count": 2,
   "id": "f2d37879",
   "metadata": {},
   "outputs": [
    {
     "name": "stdout",
     "output_type": "stream",
     "text": [
      "\u001b[K\u001b[F\u001b[K✓ Platform API call (GET /objstore/v1beta/objects/extensibility:type?filter=data.solution+eq+%22spacefleet%22)ess\u001b[?25h\n",
      "\u001b[1;39m{\n",
      "  \u001b[0m\u001b[34;1m\"allowedLayers\"\u001b[0m\u001b[1;39m: \u001b[0m\u001b[1;39m[\n",
      "    \u001b[0;32m\"TENANT\"\u001b[0m\u001b[1;39m\n",
      "  \u001b[1;39m]\u001b[0m\u001b[1;39m,\n",
      "  \u001b[0m\u001b[34;1m\"allowedObjectFragments\"\u001b[0m\u001b[1;39m: \u001b[0m\u001b[0;39mfalse\u001b[0m\u001b[1;39m,\n",
      "  \u001b[0m\u001b[34;1m\"idGeneration\"\u001b[0m\u001b[1;39m: \u001b[0m\u001b[1;39m{\n",
      "    \u001b[0m\u001b[34;1m\"generateRandomId\"\u001b[0m\u001b[1;39m: \u001b[0m\u001b[0;39mfalse\u001b[0m\u001b[1;39m,\n",
      "    \u001b[0m\u001b[34;1m\"idGenerationMechanism\"\u001b[0m\u001b[1;39m: \u001b[0m\u001b[0;32m\"{{layer.id}}:{{object.name}}\"\u001b[0m\u001b[1;39m\n",
      "  \u001b[1;39m}\u001b[0m\u001b[1;39m,\n",
      "  \u001b[0m\u001b[34;1m\"jsonSchema\"\u001b[0m\u001b[1;39m: \u001b[0m\u001b[1;39m{\n",
      "    \u001b[0m\u001b[34;1m\"$schema\"\u001b[0m\u001b[1;39m: \u001b[0m\u001b[0;32m\"http://json-schema.org/draft-07/schema#\"\u001b[0m\u001b[1;39m,\n",
      "    \u001b[0m\u001b[34;1m\"additionalProperties\"\u001b[0m\u001b[1;39m: \u001b[0m\u001b[0;39mfalse\u001b[0m\u001b[1;39m,\n",
      "    \u001b[0m\u001b[34;1m\"description\"\u001b[0m\u001b[1;39m: \u001b[0m\u001b[0;32m\"Type for storing config for calling the news of the day service\"\u001b[0m\u001b[1;39m,\n",
      "    \u001b[0m\u001b[34;1m\"properties\"\u001b[0m\u001b[1;39m: \u001b[0m\u001b[1;39m{\n",
      "      \u001b[0m\u001b[34;1m\"api_key\"\u001b[0m\u001b[1;39m: \u001b[0m\u001b[1;39m{\n",
      "        \u001b[0m\u001b[34;1m\"description\"\u001b[0m\u001b[1;39m: \u001b[0m\u001b[0;32m\"Api Key for news endpoint\"\u001b[0m\u001b[1;39m,\n",
      "        \u001b[0m\u001b[34;1m\"type\"\u001b[0m\u001b[1;39m: \u001b[0m\u001b[0;32m\"string\"\u001b[0m\u001b[1;39m\n",
      "      \u001b[1;39m}\u001b[0m\u001b[1;39m,\n",
      "      \u001b[0m\u001b[34;1m\"name\"\u001b[0m\u001b[1;39m: \u001b[0m\u001b[1;39m{\n",
      "        \u001b[0m\u001b[34;1m\"description\"\u001b[0m\u001b[1;39m: \u001b[0m\u001b[0;32m\"Config Name\"\u001b[0m\u001b[1;39m,\n",
      "        \u001b[0m\u001b[34;1m\"type\"\u001b[0m\u001b[1;39m: \u001b[0m\u001b[0;32m\"string\"\u001b[0m\u001b[1;39m\n",
      "      \u001b[1;39m}\u001b[0m\u001b[1;39m\n",
      "    \u001b[1;39m}\u001b[0m\u001b[1;39m,\n",
      "    \u001b[0m\u001b[34;1m\"required\"\u001b[0m\u001b[1;39m: \u001b[0m\u001b[1;39m[\n",
      "      \u001b[0;32m\"name\"\u001b[0m\u001b[1;39m,\n",
      "      \u001b[0;32m\"api_key\"\u001b[0m\u001b[1;39m\n",
      "    \u001b[1;39m]\u001b[0m\u001b[1;39m,\n",
      "    \u001b[0m\u001b[34;1m\"title\"\u001b[0m\u001b[1;39m: \u001b[0m\u001b[0;32m\"NewsOfTheDayConfig\"\u001b[0m\u001b[1;39m,\n",
      "    \u001b[0m\u001b[34;1m\"type\"\u001b[0m\u001b[1;39m: \u001b[0m\u001b[0;32m\"object\"\u001b[0m\u001b[1;39m\n",
      "  \u001b[1;39m}\u001b[0m\u001b[1;39m,\n",
      "  \u001b[0m\u001b[34;1m\"name\"\u001b[0m\u001b[1;39m: \u001b[0m\u001b[0;32m\"notdConfig\"\u001b[0m\u001b[1;39m,\n",
      "  \u001b[0m\u001b[34;1m\"secureProperties\"\u001b[0m\u001b[1;39m: \u001b[0m\u001b[1;39m[\n",
      "    \u001b[0;32m\"$.api_key\"\u001b[0m\u001b[1;39m\n",
      "  \u001b[1;39m]\u001b[0m\u001b[1;39m,\n",
      "  \u001b[0m\u001b[34;1m\"solution\"\u001b[0m\u001b[1;39m: \u001b[0m\u001b[0;32m\"spacefleet\"\u001b[0m\u001b[1;39m\n",
      "\u001b[1;39m}\u001b[0m\n"
     ]
    }
   ],
   "source": [
    "!fsoc knowledge get --type extensibility:type --layer-type TENANT --filter \"data.solution eq \\\"spacefleet\\\"\" -o json | jq -r '.items[] | select( .data.name == \"notdConfig\") |.data'\n"
   ]
  },
  {
   "cell_type": "code",
   "execution_count": 8,
   "id": "b3a911e1",
   "metadata": {},
   "outputs": [],
   "source": [
    "!echo \"{\\\n",
    "\\\"name\\\": \\\"perigonCfg\\\",\\\n",
    "\\\"api_key\\\": \\\"54137d0a-ebda-4f39-ad06-e4d407cd5d77\\\"\\\n",
    "}\" > /tmp/data.json"
   ]
  },
  {
   "cell_type": "code",
   "execution_count": 9,
   "id": "ab26bd9a",
   "metadata": {},
   "outputs": [
    {
     "name": "stdout",
     "output_type": "stream",
     "text": [
      "{ \"name\": \"perigonCfg\", \"api_key\": \"54137d0a-ebda-4f39-ad06-e4d407cd5d77\" }\r\n"
     ]
    }
   ],
   "source": [
    "!cat /tmp/data.json\n"
   ]
  },
  {
   "cell_type": "code",
   "execution_count": 12,
   "id": "b2032099",
   "metadata": {},
   "outputs": [
    {
     "name": "stdout",
     "output_type": "stream",
     "text": [
      "\u001b[K\u001b[F\u001b[K\u001b[31m×\u001b[0m Platform API call (POST /objstore/v1beta/objects/spacefleet:notdConfig)ess\u001b[?25h\n",
      "\u001b[31m\u001b[1m   ⨯\u001b[0m Platform API call failed \u001b[0m \u001b[31mstatus\u001b[0m=409\n",
      "\u001b[31m\u001b[1m   ⨯\u001b[0m Failed to create knowledge object: Conflict: Object with id c4a179c3-14e8-47fb-b0ba-d49c2ad25981:perigonCfg, layerId: c4a179c3-14e8-47fb-b0ba-d49c2ad25981 and layerType: TENANT, fqtn: spacefleet:notdConfig already exists: \u001b[0m\n"
     ]
    }
   ],
   "source": [
    "!fsoc knowledge create --layer-type TENANT --layer-id c4a179c3-14e8-47fb-b0ba-d49c2ad25981 --type spacefleet:notdConfig --object-file /tmp/data.json\n",
    "    \n",
    "    \n",
    "    "
   ]
  },
  {
   "cell_type": "code",
   "execution_count": 14,
   "id": "87929cf6",
   "metadata": {},
   "outputs": [],
   "source": [
    "!echo \"{\\\n",
    "\\\"name\\\": \\\"nbcCfg\\\",\\\n",
    "\\\"api_key\\\": \\\"54137d0a-ebda-4f39-ad06-e4d407cd5d77\\\"\\\n",
    "}\" > /tmp/data.json"
   ]
  },
  {
   "cell_type": "code",
   "execution_count": 15,
   "id": "fd7ec2f8",
   "metadata": {},
   "outputs": [
    {
     "name": "stdout",
     "output_type": "stream",
     "text": [
      "{ \"name\": \"nbcCfg\", \"api_key\": \"54137d0a-ebda-4f39-ad06-e4d407cd5d77\" }\r\n"
     ]
    }
   ],
   "source": [
    "!cat /tmp/data.json"
   ]
  },
  {
   "cell_type": "code",
   "execution_count": 16,
   "id": "cf26e96c",
   "metadata": {},
   "outputs": [
    {
     "name": "stdout",
     "output_type": "stream",
     "text": [
      "\u001b[K\u001b[F\u001b[K\u001b[32m✓\u001b[0m Platform API call (POST /objstore/v1beta/objects/spacefleet:notdConfig)ess\u001b[?25h\n"
     ]
    }
   ],
   "source": [
    "!fsoc knowledge create --layer-type TENANT --layer-id c4a179c3-14e8-47fb-b0ba-d49c2ad25981 --type spacefleet:notdConfig --object-file /tmp/data.json\n",
    "    \n",
    "    \n",
    "    "
   ]
  },
  {
   "cell_type": "code",
   "execution_count": null,
   "id": "8fca465a",
   "metadata": {},
   "outputs": [],
   "source": [
    "!fsoc knowledge get --type spacefleet:notdConfig --layer-type TENANT"
   ]
  },
  {
   "cell_type": "code",
   "execution_count": null,
   "id": "d4e213c0",
   "metadata": {},
   "outputs": [],
   "source": [
    "import os, requests, json\n",
    "\n",
    "def get_all_aws_services(appd_token, base_url):\n",
    "    url = base_url + \"/cloud/v1/services\"\n",
    "    payload={}\n",
    "    headers = {\n",
    "        'Content-Type': 'application/x-www-form-urlencoded',\n",
    "        'Authorization': 'Bearer ' + appd_token\n",
    "    }\n",
    "    params = {'type': 'aws'}\n",
    "    response = requests.request(\"GET\", url, params=params, headers=headers, data=payload)\n",
    "    if response.ok:\n",
    "        json_object = json.loads(response.text)\n",
    "        print(\"AWS Services:\")\n",
    "        print(json.dumps(json_object, indent = 3))\n",
    "    else:\n",
    "        print(\"Unable to retrieve AWS Services.\")\n",
    "    \n",
    "appd_token = os.getenv('APPD_TOK')\n",
    "base_url = os.getenv('BASE_URL')\n",
    "get_all_aws_services(appd_token, base_url)"
   ]
  },
  {
   "cell_type": "markdown",
   "id": "be7ae0ff",
   "metadata": {},
   "source": [
    "### Query Cloud Regions\n",
    "\n",
    "AppDynamics Cloud as of now supports a subset of the regions offered by AWS and Azure. Run the following queries to get a list regions supported.\n"
   ]
  },
  {
   "cell_type": "code",
   "execution_count": null,
   "id": "50046d0e",
   "metadata": {},
   "outputs": [],
   "source": [
    "import os, requests, json\n",
    "\n",
    "def get_all_aws_regions(appd_token, base_url):\n",
    "    #url = base_url + \"/cloud/v1/services\"\n",
    "    url = base_url + \"/cloud/v1/regions\"\n",
    "    \n",
    "    payload={}\n",
    "    headers = {\n",
    "        'Content-Type': 'application/x-www-form-urlencoded',\n",
    "        'Authorization': 'Bearer ' + appd_token\n",
    "    }\n",
    "    params = {'type': 'aws'}\n",
    "    response = requests.request(\"GET\", url, params=params, headers=headers, data=payload)\n",
    "    if response.ok:\n",
    "        json_object = json.loads(response.text)\n",
    "        print(\"AWS Regions:\")\n",
    "        print(json.dumps(json_object, indent = 3))\n",
    "    else:\n",
    "        print(\"Unable to retrieve AWS Regions.\")\n",
    "    \n",
    "appd_token = os.getenv('APPD_TOK')\n",
    "base_url = os.getenv('BASE_URL')\n",
    "get_all_aws_regions(appd_token, base_url)"
   ]
  },
  {
   "cell_type": "markdown",
   "id": "0ea11265",
   "metadata": {},
   "source": [
    "### Query Configuration objects\n",
    "\n",
    "Configurations query results can be filtered. Following exercises some of the filters supported. Run each of the following and examine the results:\n",
    "\n",
    "    * get_all_configurations - Get all Configuration objects\n",
    "    \n",
    "    * get_all_aws_configurations - Get all AWS Configuration objects\n",
    "    \n",
    "    * get_aws_configurationid_by_name - Get the Configuration object corresponding to a given name\n",
    "    \n",
    "Above are some of the more basic filtering examples. For more filter configuration, check out: https://developer.cisco.com/docs/appdynamics/cloud-connection/#!api-reference\n"
   ]
  },
  {
   "cell_type": "code",
   "execution_count": null,
   "id": "da4ce58a",
   "metadata": {},
   "outputs": [],
   "source": [
    "import os, requests, json\n",
    "\n",
    "def get_all_configurations(appd_token, base_url):\n",
    "    url = base_url + \"/cloud/v1/configurations\"\n",
    "    payload={}\n",
    "    headers = {\n",
    "        'Content-Type': 'application/x-www-form-urlencoded',\n",
    "        'Authorization': 'Bearer ' + appd_token\n",
    "    }\n",
    "    response = requests.request(\"GET\", url, headers=headers, data=payload)\n",
    "    if response.ok:\n",
    "        json_object = json.loads(response.text)\n",
    "        print(\"All Configurations:\")\n",
    "        print(json.dumps(json_object, indent = 3))\n",
    "    else:\n",
    "        print(\"Unable to retrieve Configurations.\")\n",
    "    \n",
    "appd_token = os.getenv('APPD_TOK')\n",
    "base_url = os.getenv('BASE_URL')\n",
    "get_all_configurations(appd_token, base_url)"
   ]
  },
  {
   "cell_type": "code",
   "execution_count": null,
   "id": "15bf4e5b",
   "metadata": {},
   "outputs": [],
   "source": [
    "import os, requests, json\n",
    "\n",
    "def get_all_aws_configurations(appd_token, base_url):\n",
    "    url = base_url + \"/cloud/v1/configurations\"\n",
    "    payload={}\n",
    "    headers = {\n",
    "        'Content-Type': 'application/x-www-form-urlencoded',\n",
    "        'Authorization': 'Bearer ' + appd_token\n",
    "    }\n",
    "    params = {'filter': 'type eq \"aws\"'}\n",
    "    response = requests.request(\"GET\", url, params=params, headers=headers, data=payload)\n",
    "    if response.ok:\n",
    "        json_object = json.loads(response.text)\n",
    "        print(\"AWS Configurations:\")\n",
    "        print(json.dumps(json_object, indent = 3))\n",
    "    else:\n",
    "        print(\"Unable to retrieve AWS Configurations.\")\n",
    "    \n",
    "appd_token = os.getenv('APPD_TOK')\n",
    "base_url = os.getenv('BASE_URL')\n",
    "get_all_aws_configurations(appd_token, base_url)"
   ]
  },
  {
   "cell_type": "code",
   "execution_count": null,
   "id": "e1e5d567",
   "metadata": {},
   "outputs": [],
   "source": [
    "import os, requests, json\n",
    "\n",
    "def get_aws_configurationid_by_name(appd_token, base_url, conf_name):\n",
    "    url = base_url + \"/cloud/v1/configurations\"\n",
    "    payload={}\n",
    "    headers = {\n",
    "        'Content-Type': 'application/x-www-form-urlencoded',\n",
    "        'Authorization': 'Bearer ' + appd_token\n",
    "    }\n",
    "    params = {'filter': 'type eq \"aws\" and displayName eq \"' + conf_name + \"\\\"\"}\n",
    "    response = requests.request(\"GET\", url, params=params, headers=headers, data=payload)\n",
    "    if response.ok:\n",
    "        json_object = json.loads(response.text)\n",
    "        items = json_object['items']\n",
    "        if not items:\n",
    "            return None\n",
    "        else:\n",
    "            print(\"AWS Configuration found for \" + conf_name + \":\")\n",
    "            print(json.dumps(json_object, indent = 3))\n",
    "        return(json_object['items'][0]['id'])\n",
    "    else:\n",
    "        return None\n",
    "\n",
    "appd_token = os.getenv('APPD_TOK')\n",
    "base_url = os.getenv('BASE_URL')\n",
    "conf_name = \"JupyterAWSConfig\"\n",
    "item = get_aws_configurationid_by_name(appd_token, base_url, conf_name)\n",
    "if not item:\n",
    "    print (\"Configuration not found for:\" + conf_name)\n",
    "else:\n",
    "    print(\"Configuration ID:\" + item)"
   ]
  },
  {
   "cell_type": "markdown",
   "id": "4759ce9a",
   "metadata": {},
   "source": [
    "### Create Configuration objects\n",
    "\n",
    "Let's create a configuration object that will limit data collection to specific cloud services, regions, and resource groups. We will enable data collection only to EC2 instances and apply it to all regions. We will later use this same configuration to create a cloud connection to AWS."
   ]
  },
  {
   "cell_type": "code",
   "execution_count": null,
   "id": "3f8b8dcf",
   "metadata": {},
   "outputs": [],
   "source": [
    "import os, requests, json\n",
    "\n",
    "def create_aws_config(appd_token, base_url, conf_name):\n",
    "    url = base_url + \"/cloud/v1/configurations\"\n",
    "    headers = {\n",
    "        'Content-Type': 'application/json',\n",
    "        'Accept': '*/*',\n",
    "        'Authorization': 'Bearer ' + appd_token\n",
    "    }\n",
    "    data = {\n",
    "        \"displayName\": conf_name,\n",
    "        \"type\": \"aws\",\n",
    "        \"details\": {\n",
    "            \"regions\": [],\n",
    "            \"polling\": {\n",
    "                \"interval\": 5,\n",
    "                \"unit\": \"minute\"\n",
    "            },\n",
    "            \"services\": [{\n",
    "                \"name\": \"ec2\",\n",
    "                \"polling\": {\n",
    "                    \"interval\": 5,\n",
    "                    \"unit\": \"minute\"\n",
    "                }\n",
    "            }],\n",
    "            \"importTags\": {\n",
    "                \"enabled\": \"true\",\n",
    "                \"excludedKeys\": []\n",
    "            }\n",
    "        }\n",
    "    }\n",
    "    response = requests.request(\"POST\", url, headers=headers, data=json.dumps(data))\n",
    "    if response.ok:\n",
    "        json_object = json.loads(response.text)\n",
    "        print(\"AWS Configuration created:\")\n",
    "        print(json.dumps(json_object, indent = 3))\n",
    "        token_json = response.json()\n",
    "        cid = token_json['id']\n",
    "        os.environ['CID'] = cid\n",
    "        print(cid)\n",
    "    else:\n",
    "        print (\"Could not create Configuration object. May already exist.\")\n",
    "    \n",
    "appd_token = os.getenv('APPD_TOK')\n",
    "base_url = os.getenv('BASE_URL')\n",
    "conf_name = os.getenv('CONF_NAME')\n",
    "create_aws_config(appd_token, base_url, conf_name)\n",
    "    "
   ]
  },
  {
   "cell_type": "markdown",
   "id": "8cdc696b",
   "metadata": {},
   "source": [
    "### Update Configuration Objects\n",
    "\n",
    "Lets update the above configuration object and include regions in its configuration.\n"
   ]
  },
  {
   "cell_type": "code",
   "execution_count": null,
   "id": "fd3d9c87",
   "metadata": {},
   "outputs": [],
   "source": [
    "import os, requests, json\n",
    "\n",
    "def get_aws_configurationid_by_name(appd_token, base_url, conf_name):\n",
    "    url = base_url + \"/cloud/v1/configurations\"\n",
    "    payload={}\n",
    "    headers = {\n",
    "        'Content-Type': 'application/x-www-form-urlencoded',\n",
    "        'Authorization': 'Bearer ' + appd_token\n",
    "    }\n",
    "    params = {'filter': 'type eq \"aws\" and displayName eq \"' + conf_name + \"\\\"\"}\n",
    "    print(params)\n",
    "    response = requests.request(\"GET\", url, params=params, headers=headers, data=payload)\n",
    "    if response.ok:\n",
    "        json_object = json.loads(response.text)\n",
    "        items = json_object['items']\n",
    "        if not items:\n",
    "            return None\n",
    "        else:\n",
    "            print(\"AWS Configuration found:\")\n",
    "            print(json.dumps(json_object, indent = 3))\n",
    "        return(json_object['items'][0]['id'])\n",
    "    else:\n",
    "        return None\n",
    "    \n",
    "def update_aws_config(appd_token, base_url, cid, conf_name):\n",
    "    url = base_url + \"/cloud/v1/configurations/\" + cid\n",
    "    headers = {\n",
    "        'Content-Type': 'application/json',\n",
    "        'Accept': '*/*',\n",
    "        'Authorization': 'Bearer ' + appd_token\n",
    "    }\n",
    "    data = {\n",
    "        \"displayName\": conf_name,\n",
    "        \"details\": {\n",
    "            \"regions\": [\n",
    "              \"us-east-1\",\n",
    "              \"us-west-1\"\n",
    "            ],\n",
    "            \"polling\": {\n",
    "                \"interval\": 5,\n",
    "                \"unit\": \"minute\"\n",
    "            },\n",
    "            \"services\": [{\n",
    "                \"name\": \"ec2\",\n",
    "                \"polling\": {\n",
    "                    \"interval\": 5,\n",
    "                    \"unit\": \"minute\"\n",
    "                }\n",
    "            }],\n",
    "            \"importTags\": {\n",
    "                \"enabled\": \"true\",\n",
    "                \"excludedKeys\": []\n",
    "            }\n",
    "        }\n",
    "    }\n",
    "    response = requests.request(\"PATCH\", url, headers=headers, data=json.dumps(data))\n",
    "    if response.ok:\n",
    "        print(\"Updated Configuration:\")\n",
    "        json_object = json.loads(response.text)\n",
    "        print(json.dumps(json_object, indent = 3)) \n",
    "    else:\n",
    "        print (\"Could not update Configuration object. Try again.\")\n",
    "    \n",
    "appd_token = os.getenv('APPD_TOK')\n",
    "base_url = os.getenv('BASE_URL')\n",
    "conf_name = os.getenv('CONF_NAME')\n",
    "#cid = os.getenv('CID')\n",
    "cid = get_aws_configurationid_by_name(appd_token, base_url, conf_name)\n",
    "if not cid:\n",
    "    print(\"Unknown configuration, cannot update\")\n",
    "else:\n",
    "    update_aws_config(appd_token, base_url, cid, conf_name)"
   ]
  },
  {
   "cell_type": "markdown",
   "id": "da71f2dd",
   "metadata": {},
   "source": [
    "### Delete Configuration Objects\n",
    "\n",
    "Lets delete the above configuration object created."
   ]
  },
  {
   "cell_type": "code",
   "execution_count": null,
   "id": "30d78c60",
   "metadata": {},
   "outputs": [],
   "source": [
    "import os, requests, json\n",
    "\n",
    "def get_aws_configurationid_by_name(appd_token, base_url, conf_name):\n",
    "    url = base_url + \"/cloud/v1/configurations\"\n",
    "    payload={}\n",
    "    headers = {\n",
    "        'Content-Type': 'application/x-www-form-urlencoded',\n",
    "        'Authorization': 'Bearer ' + appd_token\n",
    "    }\n",
    "    params = {'filter': 'type eq \"aws\" and displayName eq \"' + conf_name + \"\\\"\"}\n",
    "    response = requests.request(\"GET\", url, params=params, headers=headers, data=payload)\n",
    "    if response.ok:\n",
    "        json_object = json.loads(response.text)\n",
    "        items = json_object['items']\n",
    "        if not items:\n",
    "            return None\n",
    "        else:\n",
    "            print(\"AWS Configuration found:\")\n",
    "            print(json.dumps(json_object, indent = 3))\n",
    "        return(json_object['items'][0]['id'])\n",
    "    else:\n",
    "        return None\n",
    "    \n",
    "def delete_aws_config(appd_token, config_id):\n",
    "    url = base_url + \"/cloud/v1/configurations/\" + config_id\n",
    "    headers = {\n",
    "        'Content-Type': 'application/json',\n",
    "        'Accept': '*/*',\n",
    "        'Authorization': 'Bearer ' + appd_token\n",
    "    }\n",
    "    response = requests.request(\"DELETE\", url, headers=headers)\n",
    "    if response.ok:\n",
    "        print(\"Successfully deleted configuration.\")\n",
    "    else:\n",
    "        print (\"Could not delete Configuration object.\")\n",
    "    \n",
    "appd_token = os.getenv('APPD_TOK')\n",
    "base_url = os.getenv('BASE_URL')\n",
    "conf_name = os.getenv('CONF_NAME')\n",
    "#cid = os.getenv('CID')\n",
    "cid = get_aws_configurationid_by_name(appd_token, base_url, conf_name)\n",
    "if not cid:\n",
    "    print(\"Unknown configuration, cannot delete\")\n",
    "else:\n",
    "    delete_aws_config(appd_token, cid)"
   ]
  },
  {
   "cell_type": "markdown",
   "id": "5104aaf6",
   "metadata": {},
   "source": [
    "## Next Steps\n",
    "\n",
    "In the next section, we shall use the configuration object to create a AWS Cloud Connection."
   ]
  }
 ],
 "metadata": {
  "kernelspec": {
   "display_name": "Python 3 (ipykernel)",
   "language": "python",
   "name": "python3"
  },
  "language_info": {
   "codemirror_mode": {
    "name": "ipython",
    "version": 3
   },
   "file_extension": ".py",
   "mimetype": "text/x-python",
   "name": "python",
   "nbconvert_exporter": "python",
   "pygments_lexer": "ipython3",
   "version": "3.9.13"
  }
 },
 "nbformat": 4,
 "nbformat_minor": 5
}
