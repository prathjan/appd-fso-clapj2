{
 "cells": [
  {
   "cell_type": "markdown",
   "id": "0f53167e",
   "metadata": {},
   "source": [
    "## Terminating the sandbox\n",
    "\n",
    "In this section, we shall delete the cloud connection object we created in prior section. This will stop the data collection for the hosts in your AWS account provisioned."
   ]
  },
  {
   "cell_type": "markdown",
   "id": "fdd41e3f",
   "metadata": {},
   "source": [
    "### Pre-execution steps\n",
    "\n",
    "Lets recall the API token created in the previous notebook. Hit Run to set the environment."
   ]
  },
  {
   "cell_type": "code",
   "execution_count": null,
   "id": "1e291a34",
   "metadata": {},
   "outputs": [],
   "source": [
    "import os\n",
    "%store -r appd_token\n",
    "%store -r base_url\n",
    "%store -r aws_key\n",
    "%store -r aws_secret\n",
    "%store -r aws_conn_name\n",
    "%store -r aws_conf_name\n",
    "\n",
    "os.environ['APPD_TOK'] = appd_token\n",
    "os.environ['BASE_URL'] = base_url\n",
    "os.environ['AWS_KEY'] = aws_key\n",
    "os.environ['AWS_SECRET'] = aws_secret\n",
    "os.environ['AWS_CONN_NAME'] = aws_conn_name\n",
    "os.environ['AWS_CONF_NAME'] = aws_conf_name\n",
    "print(\"Environment set\" + \"\\n\")"
   ]
  },
  {
   "cell_type": "markdown",
   "id": "0ea11265",
   "metadata": {},
   "source": [
    "### Query Connection objects\n",
    "\n",
    "Let's again query connection by name to get the connection ID. This snippet will be used when we delete the connection:\n",
    "    \n",
    "    * get_aws_connectionid_by_name - Get the connection ID corresponding to a given name\n"
   ]
  },
  {
   "cell_type": "code",
   "execution_count": null,
   "id": "8431a10d",
   "metadata": {},
   "outputs": [],
   "source": [
    "import os, requests, json\n",
    "\n",
    "def get_aws_connectionid_by_name(appd_token, base_url, name):\n",
    "    url = base_url + \"/cloud/v1/connections\"\n",
    "    payload={}\n",
    "    headers = {\n",
    "        'Content-Type': 'application/x-www-form-urlencoded',\n",
    "        'Authorization': 'Bearer ' + appd_token\n",
    "    }\n",
    "    data = \"type eq \" + \"\\\"aws\\\" \" + \"and displayName eq \\\"\" + name + \"\\\"\"\n",
    "    params = {'filter': data}\n",
    "    response = requests.request(\"GET\", url, params=params, headers=headers, data=payload)\n",
    "    if response.ok:\n",
    "        print(\"Successfully retrieved connection:\")\n",
    "    else:\n",
    "        return None\n",
    "    token_json = response.json()\n",
    "    print(json.dumps(token_json, indent = 3))\n",
    "    if not (token_json['items']):\n",
    "        return None\n",
    "    else:\n",
    "        return(token_json['items'][0]['id'])\n",
    "\n",
    "appd_token = os.getenv('APPD_TOK')\n",
    "base_url = os.getenv('BASE_URL')\n",
    "conn_name = os.getenv('AWS_CONN_NAME')\n",
    "cid = get_aws_connectionid_by_name(appd_token, base_url, conn_name)\n",
    "if (cid is None):\n",
    "    print(\"Connection \" + conn_name + \" not found\")\n",
    "else:\n",
    "    print(\"Connection ID:\" + cid)"
   ]
  },
  {
   "cell_type": "markdown",
   "id": "74da5959",
   "metadata": {},
   "source": [
    "### Delete Connection objects"
   ]
  },
  {
   "cell_type": "code",
   "execution_count": null,
   "id": "a7446dd6",
   "metadata": {},
   "outputs": [],
   "source": [
    "import os, requests, json\n",
    "\n",
    "def delete_aws_connection(appd_token, conn_id):\n",
    "    url = base_url + \"/cloud/v1/connections/\" + conn_id\n",
    "    headers = {\n",
    "        'Content-Type': 'application/json',\n",
    "        'Accept': '*/*',\n",
    "        'Authorization': 'Bearer ' + appd_token\n",
    "    }\n",
    "    response = requests.request(\"DELETE\", url, headers=headers)\n",
    "    if response.ok:\n",
    "        print(\"Successfully deleted connection.\")\n",
    "    else:\n",
    "        print(\"Could not delete connection.\")\n",
    "        return None\n",
    "\n",
    "conn_name = os.getenv('AWS_CONN_NAME')\n",
    "cid = get_aws_connectionid_by_name(appd_token, base_url, conn_name)\n",
    "if (cid is None):\n",
    "    print(\"Connection \" + conn_name + \" not found\")\n",
    "else:\n",
    "    print(cid)\n",
    "    delete_aws_connection(appd_token, cid)"
   ]
  }
 ],
 "metadata": {
  "kernelspec": {
   "display_name": "Python 3 (ipykernel)",
   "language": "python",
   "name": "python3"
  },
  "language_info": {
   "codemirror_mode": {
    "name": "ipython",
    "version": 3
   },
   "file_extension": ".py",
   "mimetype": "text/x-python",
   "name": "python",
   "nbconvert_exporter": "python",
   "pygments_lexer": "ipython3",
   "version": "3.9.13"
  }
 },
 "nbformat": 4,
 "nbformat_minor": 5
}
