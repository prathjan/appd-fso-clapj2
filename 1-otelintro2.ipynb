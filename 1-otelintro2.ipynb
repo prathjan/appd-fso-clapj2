{
 "cells": [
  {
   "cell_type": "markdown",
   "id": "c50391b7",
   "metadata": {},
   "source": [
    "# Introduction to OpenTelemetry\n",
    "\n",
    "OpenTelemetry is a collection of tools, APIs and SDKs that allows for instrumentation of applications to generate observability data that can then be collected and contextualized to help analyze application performance and behavior.\n",
    "\n",
    "### Relevant OpenTelemetry Terminology\n",
    "\n",
    "    * API - In the OpenTelemetry project, API's are used to define how telemetry data is generated\n",
    "    \n",
    "    * SDK - A telemetry SDK implements the OpenTelemetry API in a specific language\n",
    "    \n",
    "    * Semantic Conventions - Defines standard names and values of Metadata in order to provide vendor-agnostic telemetry data\n",
    "    \n",
    "    * OTLP - OpenTelemetry Protocol (OTLP) defines the protocol used to exchange data between the client and the server over gRPC or HTTP\n",
    "\n",
    "### OpenTelemetry Signal Types\n",
    "    \n",
    "    * Metrics - a set of measurements collected at regular intervals\n",
    "    \n",
    "    * Logs - strings of structured or unstructured text with an associated timestamp\n",
    "    \n",
    "    * Traces - chains of events (or transactions) between different components in an application\n",
    "\n",
    "### OpenTelemetry reference Architecture\n",
    "\n",
    "Following is a high level architecture diagram for OpenTelemetry. Basically, it shows instrumentation of modern (or legacy) applications that ship back the performance data to a centralized OpenTelemetry Collector: \n",
    "\n",
    "![alt text]https://github.com/prathjan/images/blob/main/otelref.png?raw=true\n",
    "\n",
    "Various pipelines in the collector can be leveraged to contextualize the data before fanning out the observability data to backends such as Jaeger, Prometheus, AppDynamics Cloud or Cisco's FSO Platform:\n",
    "\n",
    "![alt text]https://github.com/prathjan/images/blob/main/otelref2.png?raw=true\n",
    "\n",
    "Let's now deploy and auto instrument a sample JAVA application on a k8s cluster, collect/forward observability data to an OTEL collector and then export to backend observability tools, such as **Cisco's Full Stack Observability Platform**. \n"
   ]
  },
  {
   "cell_type": "markdown",
   "id": "41c5380f",
   "metadata": {},
   "source": [
    "## Pre-provisioning steps\n",
    "\n",
    "Recall the globals set in the previous notebook. Click Run to set the environment."
   ]
  },
  {
   "cell_type": "code",
   "execution_count": null,
   "id": "9acb60bf",
   "metadata": {},
   "outputs": [],
   "source": [
    "%pwd\n",
    "%cd output\n",
    "%ls\n",
    "!terraform init\n",
    "!terraform apply -auto-approve\n",
    "%cd ..\n"
   ]
  },
  {
   "cell_type": "code",
   "execution_count": null,
   "id": "105e1672",
   "metadata": {},
   "outputs": [],
   "source": [
    "%env cluster_ca=fill-me-in\n",
    "%env cluster_endpoint=fill-me-in\n",
    "%env cluster_name=fill-me-in\n",
    "%env token=fill-me-in\n",
    "%env aws_region=us-east-2\n",
    "%env clientId=agt_1fbuVmNNxGnNJlv4ZAWyZD\n",
    "%env clientSecret=hMSQ-pHoQwUpq7zbnzl66aqKUMge9kI_ZEX6hWkZWjU\n",
    "%env clusterName=fill-me-in\n",
    "%env kubeconfig=fill-me-in\n",
    "%env APPD_CLIENTID_POST=<provided in the Sandbox above>\n",
    "%env APPD_SECRET_POST=<provided in the Sandbox above>\n",
    "%env APPD_CLIENTID_BASIC=<provided in the Sandbox above>\n",
    "%env APPD_SECRET_BASIC=<provided in the Sandbox above>\n",
    "%env TENANT_NAME=<provided in the Sandbox above>\n",
    "%env AWS_ACCESS_KEY=<provided in the Sandbox above>\n",
    "%env AWS_SECRET_KEY=<provided in the Sandbox above>\n",
    "%env AWS_CONNECTION_NAME=<provided in the Sandbox above>\n",
    "%env APPD_CLIENTID_AGT=<provided in the Sandbox above>\n",
    "%env APPD_SECRET_AGT=<provided in the Sandbox above>\n",
    "%env SOL_NAME=<provided in the Sandbox above>"
   ]
  },
  {
   "cell_type": "code",
   "execution_count": null,
   "id": "bf6f53e6",
   "metadata": {},
   "outputs": [],
   "source": [
    "import os, random\n",
    "\n",
    "aws_key = os.getenv('AWS_ACCESS_KEY')\n",
    "aws_secret = os.getenv('AWS_SECRET_KEY')\n",
    "aws_conn_name = os.getenv('AWS_CONNECTION_NAME')\n",
    "#use the same name for connection and config\n",
    "aws_conf_name = os.getenv('AWS_CONNECTION_NAME')\n",
    "clientid = os.getenv('APPD_CLIENTID_BASIC')\n",
    "clientsecret = os.getenv('APPD_SECRET_BASIC')\n",
    "solution = os.getenv('SOL_NAME')\n",
    "    \n",
    "%store aws_key\n",
    "%store aws_secret\n",
    "%store aws_conn_name\n",
    "%store aws_conf_name\n",
    "%store clientid\n",
    "%store clientsecret\n",
    "%store solution\n",
    "print(\"Globals set:\")\n",
    "print(\"Using Aws_Key:\" + aws_key)\n",
    "print(\"Using Aws_Secret:\" + aws_secret)\n",
    "print(\"Using Aws_Connection_Name:\" + aws_conn_name)\n",
    "print(\"Using Aws_Config_Name:\" + aws_conf_name)"
   ]
  },
  {
   "cell_type": "code",
   "execution_count": null,
   "id": "20a72d7e",
   "metadata": {},
   "outputs": [],
   "source": [
    "!echo $kubeconfig | base64 --decode > config\n",
    "!cat config\n",
    "!kubectl get pods --all-namespaces --kubeconfig=./config\n"
   ]
  },
  {
   "cell_type": "markdown",
   "id": "4065df2b",
   "metadata": {},
   "source": [
    "## Deploy Teastore Multi service application in EKS\n"
   ]
  },
  {
   "cell_type": "code",
   "execution_count": null,
   "id": "9deccd6b",
   "metadata": {},
   "outputs": [],
   "source": [
    "%%writefile main.tf\n",
    "\n",
    "provider \"aws\" {\n",
    "  region = var.aws_region\n",
    "}\n",
    "\n",
    "provider \"helm\" {\n",
    "  kubernetes {\n",
    "    host                   = var.endpoint\n",
    "    cluster_ca_certificate = base64decode(var.cluster_ca)\n",
    "    token                  = var.token\n",
    "  }\n",
    "}\n",
    "\n",
    "variable \"endpoint\" {\n",
    "  type        = string\n",
    "}\n",
    "variable \"cluster_ca\" {\n",
    "  type        = string\n",
    "}\n",
    "variable \"token\" {\n",
    "  type        = string\n",
    "}\n",
    "\n",
    "resource \"helm_release\" \"teaapp\" {\n",
    "  name       = \"teaapp\"\n",
    "  description      = \"A Helm chart for the TeaStore application.\"\n",
    "  namespace = \"default\"\n",
    "  chart = \"https://prathjan.github.io/helm-chart/teastore-0.1.0.tgz\"\n",
    "  wait             = true\n",
    "  wait_for_jobs    = true\n",
    "}"
   ]
  },
  {
   "cell_type": "code",
   "execution_count": null,
   "id": "389d0252",
   "metadata": {},
   "outputs": [],
   "source": [
    "!terraform init\n",
    "!terraform apply -auto-approve -var=\"cluster_ca=$cluster_ca\" -var=\"endpoint=$cluster_endpoint\" -var=\"token=$token\"\n"
   ]
  },
  {
   "cell_type": "markdown",
   "id": "96a35ff6",
   "metadata": {},
   "source": [
    "## Access TeaStore Application\n",
    "\n",
    "Get the service url for the TeaStore Application just deployed:\n"
   ]
  },
  {
   "cell_type": "code",
   "execution_count": null,
   "id": "b253521d",
   "metadata": {},
   "outputs": [],
   "source": [
    "!kubectl get pods --all-namespaces --kubeconfig=./config\n",
    " "
   ]
  },
  {
   "cell_type": "code",
   "execution_count": null,
   "id": "b9b2ea7b",
   "metadata": {},
   "outputs": [],
   "source": [
    "!kubectl get svc --kubeconfig=./config\n"
   ]
  },
  {
   "cell_type": "markdown",
   "id": "7fe5722e",
   "metadata": {},
   "source": [
    "\n",
    "Use the Load Balancer IP listed above and access the application just deployed at:\n",
    "\n",
    "http://*LB_IP*/tools.descartes.teastore.webui/\n",
    "\n",
    "It should look something like this. Deployment takes about 5 mins, refresh if you do not see the UI below:\n",
    "\n",
    "https://github.com/prathjan/images/blob/main/teaapp.png?raw=true"
   ]
  },
  {
   "cell_type": "markdown",
   "id": "9dd6e9dc",
   "metadata": {},
   "source": [
    "## Deploy AppDynamics Kubernetes and App Service Monitoring in EKS\n",
    "\n",
    "Kubernetes and App Service Monitoring provides visibility into your Kubernetes® infrastructure and services for Application Performance Monitoring (APM).\n",
    "\n",
    "For more info: \n",
    "\n",
    "https://docs.appdynamics.com/fso/cloud-native-app-obs/en/kubernetes-and-app-service-monitoring/install-kubernetes-and-app-service-monitoring#InstallKubernetesandAppServiceMonitoring-helm-chartsInstallKubernetesandAppServiceMonitoringUsingHelmCharts\n"
   ]
  },
  {
   "cell_type": "markdown",
   "id": "f7ed090f",
   "metadata": {},
   "source": [
    "### Pre-provisioning\n",
    "\n",
    "Let's set up AppDynamics collector and operator configuration as per the steps in the above URL."
   ]
  },
  {
   "cell_type": "code",
   "execution_count": null,
   "id": "348734ab",
   "metadata": {},
   "outputs": [],
   "source": [
    "%%writefile template.tf\n",
    "\n",
    "variable \"clusterName\" {\n",
    "  description = \"AWS EKS Cluster name.\"\n",
    "  type        = string\n",
    "}\n",
    "\n",
    "variable \"clientId\" {\n",
    "  description = \"FSO Platform client id.\"\n",
    "  type        = string\n",
    "}\n",
    "variable \"clientSecret\" {\n",
    "  description = \"FSO Platform client secret.\"\n",
    "  type        = string\n",
    "}\n",
    "\n",
    "locals {\n",
    "    collector_content = templatefile(\"${path.module}/collectors-values.tmpl\", { clusterName = var.clusterName, clientId = var.clientId, clientSecret = var.clientSecret })\n",
    "    operator_content = templatefile(\"${path.module}/operators-values.tmpl\", { clusterName = var.clusterName, clientId = var.clientId, clientSecret = var.clientSecret })\n",
    "}\n",
    "\n",
    "resource \"null_resource\" \"local\" {\n",
    "  # Render to local file on machine\n",
    "  # https://github.com/hashicorp/terraform/issues/8090#issuecomment-291823613\n",
    "  provisioner \"local-exec\" {\n",
    "    command = format(\n",
    "      \"cat <<\\\"EOF\\\" > \\\"%s\\\"\\n%s\\nEOF\",\n",
    "      \"${path.module}/collectors-values.yaml\",\n",
    "      local.collector_content\n",
    "    )\n",
    "  }\n",
    "  provisioner \"local-exec\" {\n",
    "    command = format(\n",
    "      \"cat <<\\\"EOF\\\" > \\\"%s\\\"\\n%s\\nEOF\",\n",
    "      \"${path.module}/operators-values.yaml\",\n",
    "      local.operator_content\n",
    "    )\n",
    "  }\n",
    "}\n",
    "\n",
    "\n",
    "resource \"helm_release\" \"cert-manager\" {\n",
    "  name       = \"cert-manager\"\n",
    "  description      = \"A Helm chart for the cert-manager application.\"\n",
    "  namespace = \"cert-manager\"\n",
    "  create_namespace = true  \n",
    "  chart            = \"cert-manager\"\n",
    "  repository       = \"https://charts.jetstack.io\"\n",
    "  version          = \"v1.5.3\"\n",
    "  set {\n",
    "    name  = \"installCRDs\"\n",
    "    value = \"true\"\n",
    "  }\n",
    "}\n"
   ]
  },
  {
   "cell_type": "code",
   "execution_count": null,
   "id": "0de50129",
   "metadata": {},
   "outputs": [],
   "source": [
    "\n",
    "!terraform init\n",
    "!terraform apply -auto-approve -var=\"cluster_ca=$cluster_ca\" -var=\"endpoint=$cluster_endpoint\" -var=\"token=$token\" -var=\"clusterName=$clusterName\" -var=\"clientId=$clientId\" -var=\"clientSecret=$clientSecret\"\n"
   ]
  },
  {
   "cell_type": "markdown",
   "id": "0deaeaa7",
   "metadata": {},
   "source": [
    "## Provision AppDynamics APM Monitoring\n",
    "\n",
    "Let's deploy the collector and operator entities to start the monitoring of the EKS cluster."
   ]
  },
  {
   "cell_type": "code",
   "execution_count": null,
   "id": "fcfb4c0b",
   "metadata": {},
   "outputs": [],
   "source": [
    "%%writefile appd.tf\n",
    "\n",
    "terraform {\n",
    "  required_providers {\n",
    "    helm = {\n",
    "      source = \"hashicorp/helm\"\n",
    "    }\n",
    "  }\n",
    "}\n",
    "\n",
    "\n",
    "\n",
    "resource helm_release appdoperator {\n",
    "  name       = \"appdynamics-operators\"\n",
    "  namespace = \"appdynamics\"\n",
    "  create_namespace = true\n",
    "  chart = \"appdynamics-operators\"\n",
    "  repository = \"https://appdynamics.jfrog.io/artifactory/appdynamics-cloud-helmcharts\"\n",
    "  timeout = 600\n",
    "  values = [\n",
    "    file(\"${path.module}/operators-values.yaml\")\n",
    "  ]\n",
    "}\n",
    "\n",
    "resource helm_release appdcollector {\n",
    "  depends_on  = [helm_release.appdoperator]\n",
    "  name       = \"appdynamics-collectors\"\n",
    "  namespace = \"appdynamics\"\n",
    "  chart = \"appdynamics-collectors\"\n",
    "  repository = \"https://appdynamics.jfrog.io/artifactory/appdynamics-cloud-helmcharts\"\n",
    "  timeout = 600\n",
    "  values = [\n",
    "    file(\"${path.module}/collectors-values.yaml\")\n",
    "  ]\n",
    "}\n"
   ]
  },
  {
   "cell_type": "code",
   "execution_count": null,
   "id": "422bb686",
   "metadata": {},
   "outputs": [],
   "source": [
    "\n",
    "!terraform init\n",
    "!terraform apply -auto-approve -var=\"cluster_ca=$cluster_ca\" -var=\"endpoint=$cluster_endpoint\" -var=\"token=$token\" -var=\"clusterName=$clusterName\" -var=\"clientId=$clientId\" -var=\"clientSecret=$clientSecret\"\n"
   ]
  },
  {
   "cell_type": "markdown",
   "id": "d984cbbe",
   "metadata": {},
   "source": [
    "## Auto Instrumentation of TeaStore Application\n",
    "\n",
    "Description - This section describes how to auto-instrument your services using the OpenTelemetry Operator For Kubernetes® installed by the Kubernetes and App Service Monitoring Helm charts above.\n"
   ]
  },
  {
   "cell_type": "code",
   "execution_count": null,
   "id": "bbd4a047",
   "metadata": {},
   "outputs": [],
   "source": [
    "%%writefile instrument.tf\n",
    "\n",
    "resource \"null_resource\" \"patchnamespace\" {\n",
    "   provisioner \"local-exec\" {\n",
    "    command = <<EOT\n",
    "      kubectl patch namespace default --kubeconfig=./config --patch '{\"metadata\": {\"annotations\": {\"instrumentation.opentelemetry.io/inject-java\": \"appdynamics/appd-instrumentation\"}}}'\n",
    "  EOT\n",
    "  }\n",
    "}\n",
    "\n",
    "resource \"null_resource\" \"restartapp\" {\n",
    "  depends_on  = [null_resource.patchnamespace]\n",
    "   provisioner \"local-exec\" {\n",
    "    command = <<EOT\n",
    "      kubectl delete pod --kubeconfig=./config $(kubectl get pods --kubeconfig=./config | grep teaapp | cut -d ' ' -f 1)\n",
    "  EOT\n",
    "  }\n",
    "}\n",
    "\n"
   ]
  },
  {
   "cell_type": "code",
   "execution_count": null,
   "id": "5b4d0f7a",
   "metadata": {},
   "outputs": [],
   "source": [
    "\n",
    "!terraform init\n",
    "!terraform apply -auto-approve -var=\"cluster_ca=$cluster_ca\" -var=\"endpoint=$cluster_endpoint\" -var=\"token=$token\" -var=\"clusterName=$clusterName\" -var=\"clientId=$clientId\" -var=\"clientSecret=$clientSecret\"\n"
   ]
  },
  {
   "cell_type": "code",
   "execution_count": null,
   "id": "11127af8",
   "metadata": {},
   "outputs": [],
   "source": [
    "!helm delete appdynamics-collectors appdynamics-operators\t-n appdynamics \n",
    "!helm delete cert-manager -n cert-manager"
   ]
  },
  {
   "cell_type": "code",
   "execution_count": null,
   "id": "9227ee35",
   "metadata": {},
   "outputs": [],
   "source": [
    "\n",
    "\n",
    "from eks_token import get_token\n",
    "response = get_token(cluster_name='AppD-EKS-Addon-umkht-EKS')\n",
    "print(response)"
   ]
  },
  {
   "cell_type": "markdown",
   "id": "5387cc0d",
   "metadata": {},
   "source": [
    "## Full Stack Observability in AppDynamics Cloud\n",
    "\n",
    "Once the JAVA services are auto instrumented, you will be able to review the value add of Cisco's FSO Platform as it applies to the following:\n",
    "\n",
    "* Observe cloud-native microservices deployed on multiple public Kubernetes clusters.\n",
    "\n",
    "* Observe the full stack, including relationships and interdependencies, using an extensible topology.\n",
    "\n",
    "* Monitor business transactions.\n",
    "\n",
    "* Receive MELT data from OpenTelemetry-compatible collectors.\n",
    "\n",
    "https://github.com/prathjan/images/blob/main/fsosvc.png?raw=true\n"
   ]
  },
  {
   "cell_type": "markdown",
   "id": "8a30099d",
   "metadata": {},
   "source": [
    "In the next section, we will review Cisco's FSO Platform briefly."
   ]
  }
 ],
 "metadata": {
  "kernelspec": {
   "display_name": "Python 3 (ipykernel)",
   "language": "python",
   "name": "python3"
  },
  "language_info": {
   "codemirror_mode": {
    "name": "ipython",
    "version": 3
   },
   "file_extension": ".py",
   "mimetype": "text/x-python",
   "name": "python",
   "nbconvert_exporter": "python",
   "pygments_lexer": "ipython3",
   "version": "3.9.13"
  }
 },
 "nbformat": 4,
 "nbformat_minor": 5
}
