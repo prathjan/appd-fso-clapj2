{
 "cells": [
  {
   "cell_type": "markdown",
   "id": "c31e3a0f",
   "metadata": {},
   "source": [
    "# Setting up Cloud Observability with Terraform - Provisioning with Terraform \n",
    "\n",
    "In the previous sections, we configured cloud connections to your AWS resources, health rules and anomaly detection using API's. In this section, we shall use Terraform to do the same.\n",
    "\n",
    "The configuration object lifecycle has the following stages.\n",
    "\n",
    "* Pre-execution steps\n",
    "* Create Connections\n",
    "* Query Connections\n",
    "* Update a Connection\n",
    "* Delete a Connection\n",
    "    \n",
    "We do not delete the connection here, because we want to observe all of the host metrics before we terminate. For more information on deleting the cloud connections, refer to the section on Termination.\n",
    "    \n",
    "To progress with the lab, click **inside** the boxes below that contain the snippets of Python code. Note that the **Run** button will appear to the left of the code box. Click on the **arrow** button to execute the code snippet. After you click **Run**, executions in progress will be denoted by \"ln[*]\"\n",
    "\n",
    "> **Note:** Do not skip code blocks. Execute each before you progress to the next.\n",
    "\n",
    "> **Note:** Wait for the entire execution to complete in a code block before you progress to the next."
   ]
  },
  {
   "cell_type": "markdown",
   "id": "fdd41e3f",
   "metadata": {},
   "source": [
    "## Pre-provisioning steps\n",
    "\n",
    "Recall the globals set in in the previous notebook. Click **Run** to set the environment."
   ]
  },
  {
   "cell_type": "code",
   "execution_count": null,
   "id": "1e291a34",
   "metadata": {},
   "outputs": [],
   "source": [
    "import os\n",
    "%store -r aws_key\n",
    "%store -r aws_secret\n",
    "%store -r aws_conn_name\n",
    "%store -r cl_id\n",
    "%store -r cl_secret\n",
    "\n",
    "os.environ['AWS_KEY'] = aws_key\n",
    "os.environ['AWS_SECRET'] = aws_secret\n",
    "os.environ['AWS_CONN_NAME'] = aws_conn_name\n",
    "os.environ['CL_ID'] = cl_id\n",
    "os.environ['CL_SECRET'] = cl_secret\n",
    "print(\"Globals set:\" + \"\\n\")\n",
    "print(\"Connection Name:\" + aws_conn_name + \"\\n\")\n",
    "print(\"AWS Secret:\" + aws_secret + \"\\n\")\n",
    "print(\"AWS Key:\" + aws_key + \"\\n\")\n"
   ]
  },
  {
   "cell_type": "markdown",
   "id": "1b612456",
   "metadata": {},
   "source": [
    "## Check Terraform and initialize AppDynamics Provider\n",
    "\n",
    "Run this command to make sure you can access Terraform that has been set up for this environment. Also, note that we are using a local copy of the AppDynamics Terraform provider and we shall copy it to your local instance."
   ]
  },
  {
   "cell_type": "code",
   "execution_count": null,
   "id": "264e57ba",
   "metadata": {},
   "outputs": [],
   "source": [
    "!terraform version\n"
   ]
  },
  {
   "cell_type": "code",
   "execution_count": null,
   "id": "4d34ebb5",
   "metadata": {},
   "outputs": [],
   "source": [
    "!mkdir -p ~/.terraform.d/plugins/terraform.local/local/appdynamics/1.0.0/linux_amd64/terraform-provider-appdynamics_v1.0.0\n"
   ]
  },
  {
   "cell_type": "code",
   "execution_count": null,
   "id": "6d581cfd",
   "metadata": {},
   "outputs": [],
   "source": [
    "!cp ./plugin/appdynamicscloud ~/.terraform.d/plugins/terraform.local/local/appdynamics/1.0.0/linux_amd64/terraform-provider-appdynamics_v1.0.0\n"
   ]
  },
  {
   "cell_type": "code",
   "execution_count": null,
   "id": "8373ee1c",
   "metadata": {},
   "outputs": [],
   "source": [
    "!rm data.tf dataregions.tf dataservices.tf datas.tf allconns.tf"
   ]
  },
  {
   "cell_type": "markdown",
   "id": "b7fcc6f0",
   "metadata": {},
   "source": [
    "## Create Connection objects\n",
    "\n",
    "AppDynamics Cloud supports Amazon Web Services (AWS) Role Delegation, AWS Access Key Credentials to authenticate and authorize AppDynamics Cloud with AWS. Here, we use AWS Access Key methodology to create the cloud connection to AWS.\n",
    "\n",
    "Click **Run** to save this file locally to your file system."
   ]
  },
  {
   "cell_type": "code",
   "execution_count": null,
   "id": "5ebd272a",
   "metadata": {},
   "outputs": [],
   "source": [
    "%%writefile main.tf\n",
    "\n",
    "terraform {\n",
    "  required_providers {\n",
    "    appdynamicscloud = {\n",
    "      source = \"terraform.local/local/appdynamics\"\n",
    "    }\n",
    "    http = {\n",
    "      source = \"hashicorp/http\"\n",
    "      version = \"3.1.0\"\n",
    "    }\n",
    "    local = {\n",
    "      source = \"hashicorp/local\"\n",
    "      version = \"2.2.3\"\n",
    "    }\n",
    "  }\n",
    "}\n",
    "\n",
    "provider \"appdynamicscloud\" {\n",
    "  tenant_name = \"cisco-devnet\"\n",
    "  login_mode  = \"service_principal\"\n",
    "\n",
    "  client_id     = var.client_id\n",
    "  client_secret = var.client_secret\n",
    "}\n",
    "\n",
    "variable \"client_id\" {\n",
    "  type     = string\n",
    "  nullable = false\n",
    "}\n",
    "\n",
    "variable \"client_secret\" {\n",
    "  type     = string\n",
    "  nullable = false\n",
    "}\n",
    "\n",
    "variable \"access_key_id\" {\n",
    "  type     = string\n",
    "  nullable = false\n",
    "}\n",
    "\n",
    "variable \"secret_access_key\" {\n",
    "  type     = string\n",
    "  nullable = false\n",
    "}\n",
    "\n",
    "variable \"conn_name\" {\n",
    "  type     = string\n",
    "  nullable = false\n",
    "}\n",
    "\n",
    "variable \"descr\" {\n",
    "  type     = string\n",
    "  nullable = false\n",
    "}\n",
    "\n",
    "resource \"appdynamicscloud_connection_aws\" \"sampleconn\" {\n",
    "  display_name = var.conn_name\n",
    "  description  = var.descr\n",
    "  state        = \"ACTIVE\"\n",
    "\n",
    "  connection_details {\n",
    "    access_type       = \"access_key\"\n",
    "    access_key_id     = var.access_key_id\n",
    "    secret_access_key = var.secret_access_key\n",
    "  }\n",
    "configuration_details {\n",
    "    import_tags {\n",
    "      enabled       = true\n",
    "      excluded_keys = [\"key1\", \"key2\"]\n",
    "    }\n",
    "    tag_filter = \"(tags(env) = 'prod' || tags(env) = 'production')) && tags(project) = 'cloudcollectors'\"\n",
    "    regions    = [\"us-east-1\", \"us-west-1\"]\n",
    "    polling {\n",
    "      interval = 5\n",
    "      unit     = \"minute\"\n",
    "    }\n",
    "\n",
    "    services {\n",
    "      name = \"ebs\"\n",
    "      import_tags {\n",
    "        enabled       = false\n",
    "        excluded_keys = []\n",
    "      }\n",
    "      tag_filter = \"tags(project) = 'cloudcollectors' && tags(jira) IN ['XTNSBL','ACE'] && !(tags(region) IN ['US','IN']) && HAS tags(monitorEnabled) && !(HAS tags(restrictedUse)\"\n",
    "      polling {\n",
    "        interval = 5\n",
    "        unit     = \"minute\"\n",
    "      }\n",
    "    }\n",
    "    services {\n",
    "      name = \"ec2\"\n",
    "      import_tags {\n",
    "        enabled       = true\n",
    "        excluded_keys = [\"key1\", \"key2\"]\n",
    "      }\n",
    "      polling {\n",
    "        interval = 5\n",
    "        unit     = \"minute\"\n",
    "      }\n",
    "      tag_filter = \"tags(project) = 'cloudcollectors' && tags(jira) IN ['XTNSBL','ACE'] && !(tags(region) IN ['US','IN']) && HAS tags(monitorEnabled) && !(HAS tags(restrictedUse)\"\n",
    "    }\n",
    "  }\n",
    "}\n",
    "\n",
    "output \"conn_id\" {\n",
    "  description = \"Connection ID:\"\n",
    "  value       = appdynamicscloud_connection_aws.sampleconn.id\n",
    "}\n"
   ]
  },
  {
   "cell_type": "markdown",
   "id": "6218f851",
   "metadata": {},
   "source": [
    "## Initialize Terraform"
   ]
  },
  {
   "cell_type": "code",
   "execution_count": null,
   "id": "d3ac935c",
   "metadata": {},
   "outputs": [],
   "source": [
    "!terraform init"
   ]
  },
  {
   "cell_type": "markdown",
   "id": "3ac42a29",
   "metadata": {},
   "source": [
    "## Checkout Terraform Plan"
   ]
  },
  {
   "cell_type": "code",
   "execution_count": null,
   "id": "8cc9a72e",
   "metadata": {},
   "outputs": [],
   "source": [
    "!terraform plan -var=\"access_key_id=$aws_key\" -var=\"secret_access_key=$aws_secret\" -var=\"client_id=$cl_id\" -var=\"client_secret=$cl_secret\" -var=\"conn_name=$aws_conn_name\" -var=\"descr=XXX\"\n",
    "\n"
   ]
  },
  {
   "cell_type": "markdown",
   "id": "35efa5a5",
   "metadata": {},
   "source": [
    "## Apply Terraform Plan"
   ]
  },
  {
   "cell_type": "code",
   "execution_count": null,
   "id": "95c2903c",
   "metadata": {},
   "outputs": [],
   "source": [
    "!terraform apply -auto-approve -var=\"conn_name=$aws_conn_name\" -var=\"descr=XXX\" -var=\"access_key_id=$aws_key\" -var=\"secret_access_key=$aws_secret\" -var=\"client_id=$cl_id\" -var=\"client_secret=$cl_secret\"\n"
   ]
  },
  {
   "cell_type": "markdown",
   "id": "0ea11265",
   "metadata": {},
   "source": [
    "## Query Connection objects\n",
    "\n",
    "You can do the following queries with Terraform:\n",
    "\n",
    "* get AWS Regions\n",
    "* get AWS Services\n",
    "* get AWS Connection by ID\n"
   ]
  },
  {
   "cell_type": "markdown",
   "id": "77a93c28",
   "metadata": {},
   "source": [
    "### Get AWS Regions"
   ]
  },
  {
   "cell_type": "code",
   "execution_count": null,
   "id": "da4ce58a",
   "metadata": {},
   "outputs": [],
   "source": [
    "%%writefile dataregions.tf\n",
    "\n",
    "data \"appdynamicscloud_regions_aws\" \"example\" {\n",
    "}\n",
    "\n",
    "output \"aws_region\" {\n",
    "  description = \"AWS region\"\n",
    "  value       = data.appdynamicscloud_regions_aws.example\n",
    "}\n"
   ]
  },
  {
   "cell_type": "code",
   "execution_count": null,
   "id": "72dada1f",
   "metadata": {},
   "outputs": [],
   "source": [
    "\n",
    "!echo $connid\n",
    "connid=\"$(terraform output -raw conn_id)\"\n",
    "!terraform apply -auto-approve  -var=\"descr=XXX\" -var=\"conn_name=$aws_conn_name\" -var=\"access_key_id=$aws_key\" -var=\"secret_access_key=$aws_secret\" -var=\"client_id=$cl_id\" -var=\"client_secret=$cl_secret\"\n",
    "\n"
   ]
  },
  {
   "cell_type": "markdown",
   "id": "9b002d80",
   "metadata": {},
   "source": [
    "### Get AWS Services"
   ]
  },
  {
   "cell_type": "code",
   "execution_count": null,
   "id": "1f640eec",
   "metadata": {},
   "outputs": [],
   "source": [
    "%%writefile dataservices.tf\n",
    "\n",
    "data \"appdynamicscloud_services_aws\" \"example\" {\n",
    "}\n",
    "\n",
    "output \"aws_services\" {\n",
    "  description = \"AWS Services\"\n",
    "  value       = data.appdynamicscloud_services_aws.example\n",
    "}\n"
   ]
  },
  {
   "cell_type": "code",
   "execution_count": null,
   "id": "5f2dd494",
   "metadata": {},
   "outputs": [],
   "source": [
    "!terraform apply -auto-approve -var=\"descr=XXX\" -var=\"conn_name=$aws_conn_name\" -var=\"access_key_id=$aws_key\" -var=\"secret_access_key=$aws_secret\" -var=\"client_id=$cl_id\" -var=\"client_secret=$cl_secret\"\n"
   ]
  },
  {
   "cell_type": "markdown",
   "id": "b5137493",
   "metadata": {},
   "source": [
    "### Get AWS Connections By ID"
   ]
  },
  {
   "cell_type": "code",
   "execution_count": null,
   "id": "65711330",
   "metadata": {},
   "outputs": [],
   "source": [
    "%%writefile data.tf\n",
    "\n",
    "variable \"connid\" {\n",
    "  type     = string\n",
    "  nullable = false\n",
    "}\n",
    "\n",
    "data \"appdynamicscloud_connection_aws\" \"conn\" {\n",
    "    connection_id = var.connid\n",
    "}\n",
    "\n",
    "output \"aws_connections\" {\n",
    "  description = \"AWS Connections\"\n",
    "  value       = data.appdynamicscloud_connection_aws.conn\n",
    "}\n"
   ]
  },
  {
   "cell_type": "code",
   "execution_count": null,
   "id": "1e8c56da",
   "metadata": {},
   "outputs": [],
   "source": [
    "connid=\"$(terraform output -raw conn_id)\"\n",
    "!terraform apply -auto-approve -var=\"connid=$connid\" -var=\"descr=Test connection for AWS\" -var=\"conn_name=$aws_conn_name\" -var=\"access_key_id=$aws_key\" -var=\"secret_access_key=$aws_secret\" -var=\"client_id=$cl_id\" -var=\"client_secret=$cl_secret\"\n"
   ]
  },
  {
   "cell_type": "markdown",
   "id": "f344d42a",
   "metadata": {},
   "source": [
    "## Update Connection objects\n",
    "\n",
    "You can see the fields that can be updated in the [Connections API documentation](https://developer.cisco.com/docs/appdynamics/cloud-connection/#!get-started/connections-api).\n",
    "\n",
    "A common use case for updates would be to enable/disable connections specifying the payload as follows:\n",
    "\n",
    "Enable:\n",
    "    data = {\n",
    "        \"state\":\"ACTIVE\"\n",
    "    }\n",
    "\n",
    "Disable:\n",
    "    data = {\n",
    "        \"state\":\"INACTIVE\"\n",
    "    }\n",
    "\n",
    "For this run, let's modify the connection description below:"
   ]
  },
  {
   "cell_type": "code",
   "execution_count": null,
   "id": "affabcaf",
   "metadata": {},
   "outputs": [],
   "source": [
    "%%writefile main.tf\n",
    "\n",
    "terraform {\n",
    "  required_providers {\n",
    "    appdynamicscloud = {\n",
    "      source = \"terraform.local/local/appdynamics\"\n",
    "    }\n",
    "  }\n",
    "}\n",
    "\n",
    "provider \"appdynamicscloud\" {\n",
    "  tenant_name = \"cisco-devnet\"\n",
    "  login_mode  = \"service_principal\"\n",
    "\n",
    "  client_id     = var.client_id\n",
    "  client_secret = var.client_secret\n",
    "}\n",
    "\n",
    "variable \"client_id\" {\n",
    "  type     = string\n",
    "  nullable = false\n",
    "}\n",
    "\n",
    "variable \"client_secret\" {\n",
    "  type     = string\n",
    "  nullable = false\n",
    "}\n",
    "\n",
    "variable \"access_key_id\" {\n",
    "  type     = string\n",
    "  nullable = false\n",
    "}\n",
    "\n",
    "variable \"secret_access_key\" {\n",
    "  type     = string\n",
    "  nullable = false\n",
    "}\n",
    "\n",
    "variable \"conn_name\" {\n",
    "  type     = string\n",
    "  nullable = false\n",
    "}\n",
    "\n",
    "variable \"descr\" {\n",
    "  type     = string\n",
    "  nullable = false\n",
    "}\n",
    "\n",
    "resource \"appdynamicscloud_connection_aws\" \"sampleconn\" {\n",
    "  display_name = var.conn_name\n",
    "  description  = var.descr\n",
    "  state        = \"INACTIVE\"\n",
    "\n",
    "  connection_details {\n",
    "    access_type       = \"access_key\"\n",
    "    access_key_id     = var.access_key_id\n",
    "    secret_access_key = var.secret_access_key\n",
    "  }\n",
    "configuration_details {\n",
    "    import_tags {\n",
    "      enabled       = true\n",
    "      excluded_keys = [\"key1\", \"key2\"]\n",
    "    }\n",
    "    tag_filter = \"(tags(env) = 'prod' || tags(env) = 'production')) && tags(project) = 'cloudcollectors'\"\n",
    "    regions    = [\"us-east-1\", \"us-west-1\"]\n",
    "    polling {\n",
    "      interval = 5\n",
    "      unit     = \"minute\"\n",
    "    }\n",
    "\n",
    "    services {\n",
    "      name = \"ebs\"\n",
    "      import_tags {\n",
    "        enabled       = false\n",
    "        excluded_keys = []\n",
    "      }\n",
    "      tag_filter = \"tags(project) = 'cloudcollectors' && tags(jira) IN ['XTNSBL','ACE'] && !(tags(region) IN ['US','IN']) && HAS tags(monitorEnabled) && !(HAS tags(restrictedUse)\"\n",
    "      polling {\n",
    "        interval = 5\n",
    "        unit     = \"minute\"\n",
    "      }\n",
    "    }\n",
    "    services {\n",
    "      name = \"ec2\"\n",
    "      import_tags {\n",
    "        enabled       = true\n",
    "        excluded_keys = [\"key1\", \"key2\"]\n",
    "      }\n",
    "      polling {\n",
    "        interval = 5\n",
    "        unit     = \"minute\"\n",
    "      }\n",
    "      tag_filter = \"tags(project) = 'cloudcollectors' && tags(jira) IN ['XTNSBL','ACE'] && !(tags(region) IN ['US','IN']) && HAS tags(monitorEnabled) && !(HAS tags(restrictedUse)\"\n",
    "    }\n",
    "  }\n",
    "}\n",
    "\n",
    "output \"conn_id\" {\n",
    "  description = \"Connection ID:\"\n",
    "  value       = appdynamicscloud_connection_aws.sampleconn.id\n",
    "}"
   ]
  },
  {
   "cell_type": "code",
   "execution_count": null,
   "id": "d18ad291",
   "metadata": {},
   "outputs": [],
   "source": [
    "connid=\"$(terraform output -raw conn_id)\"\n",
    "!terraform apply -auto-approve -var=\"connid=$connid\" -var=\"descr=Test connection for AWS\" -var=\"conn_name=$aws_conn_name\" -var=\"access_key_id=$aws_key\" -var=\"secret_access_key=$aws_secret\" -var=\"client_id=$cl_id\" -var=\"client_secret=$cl_secret\"\n"
   ]
  },
  {
   "cell_type": "markdown",
   "id": "2a6fe0eb",
   "metadata": {},
   "source": [
    "### Get AWS Connections Using Terraform & API's\n"
   ]
  },
  {
   "cell_type": "code",
   "execution_count": null,
   "id": "050b50b2",
   "metadata": {},
   "outputs": [],
   "source": [
    "%%writefile allconns.tf\n",
    "\n",
    "variable \"appdURL\" {\n",
    "  description = \"Endpoint of the Cloud Native Application Observability\"\n",
    "  type        = string\n",
    "}\n",
    "\n",
    "variable \"tenant\" {\n",
    "  description = \"Tenant ID\"\n",
    "  type        = string\n",
    "}\n",
    "\n",
    "\n",
    "data \"http\" \"get_auth_token\" {\n",
    "  provider = http\n",
    "  url = \"${var.appdURL}/auth/${var.tenant}/default/oauth2/token\"\n",
    "\n",
    "  request_headers = {\n",
    "    Content-Type: \"application/x-www-form-urlencoded\"\n",
    "    Authorization = \"Basic ${base64encode(\"${var.client_id}:${var.client_secret}\")}\"\n",
    "  }\n",
    "  request_body = \"grant_type=client_credentials\"\n",
    "  method = \"POST\"\n",
    "}\n",
    "\n",
    "\n",
    "locals {\n",
    "  auth_reponse = jsondecode(data.http.get_auth_token.response_body)\n",
    "}\n",
    "\n",
    "output \"get_auth_response\" {\n",
    "  value = data.http.get_auth_token.response_body\n",
    "}\n",
    "\n",
    "data \"http\" \"get_connections\"{\n",
    "provider = http\n",
    "  url = \"${var.appdURL}/cloud/v1/connections\"\n",
    "\n",
    "  request_headers = {\n",
    "    Content-Type: \"application/json\"\n",
    "    Authorization:\"Bearer ${local.auth_reponse.access_token}\"\n",
    "    Appd-Tenant-Id: \"${var.tenant}\"\n",
    "  }\n",
    "  method = \"GET\"\n",
    "\n",
    "}\n",
    "\n",
    "output \"get_response\" {\n",
    "  value = data.http.get_connections.response_body\n",
    "}\n",
    "\n",
    "resource \"local_file\" \"json-data\" {\n",
    "    content  = data.http.get_connections.response_body\n",
    "    filename = \"getConnections.json\"\n",
    "}\n",
    "\n"
   ]
  },
  {
   "cell_type": "code",
   "execution_count": null,
   "id": "4d599b8b",
   "metadata": {},
   "outputs": [],
   "source": [
    "connid=\"$(terraform output -raw conn_id)\"\n",
    "!terraform apply -auto-approve  -var=\"tenant=76d947c5-91ee-4a95-8833-7bf9040a3d88\" -var=\"appdURL=https://cisco-devnet.observe.appdynamics.com\" -var=\"descr=Test connection for AWS\" -var=\"conn_name=$aws_conn_name\" -var=\"access_key_id=$aws_key\" -var=\"secret_access_key=$aws_secret\" -var=\"client_id=$cl_id\" -var=\"client_secret=$cl_secret\"\n"
   ]
  },
  {
   "cell_type": "markdown",
   "id": "040ac415",
   "metadata": {},
   "source": [
    "## Delete Connection objects\n"
   ]
  },
  {
   "cell_type": "code",
   "execution_count": null,
   "id": "7e9d172d",
   "metadata": {},
   "outputs": [],
   "source": [
    "!terraform destroy -auto-approve -var=\"conn_name=$aws_conn_name\" -var=\"descr=XXX\" -var=\"access_key_id=$aws_key\" -var=\"secret_access_key=$aws_secret\" -var=\"client_id=$cl_id\" -var=\"client_secret=$cl_secret\"\n"
   ]
  }
 ],
 "metadata": {
  "kernelspec": {
   "display_name": "Python 3 (ipykernel)",
   "language": "python",
   "name": "python3"
  },
  "language_info": {
   "codemirror_mode": {
    "name": "ipython",
    "version": 3
   },
   "file_extension": ".py",
   "mimetype": "text/x-python",
   "name": "python",
   "nbconvert_exporter": "python",
   "pygments_lexer": "ipython3",
   "version": "3.9.13"
  }
 },
 "nbformat": 4,
 "nbformat_minor": 5
}
