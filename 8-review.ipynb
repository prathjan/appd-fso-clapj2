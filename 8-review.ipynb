{
 "cells": [
  {
   "cell_type": "markdown",
   "id": "c31e3a0f",
   "metadata": {},
   "source": [
    "# Explore with Schema Browser and Query Builder\n",
    "\n",
    "\n",
    "\n",
    "\n",
    "\n",
    "    \n",
    "To progress with the lab, click **inside** the boxes below that contain the snippets of Python code. Note that the **Run** button will appear to the left of the code box. Click on the **arrow** button to execute the code snippet. After you click **Run**, executions in progress will be denoted by \"ln[*]\"\n",
    "\n",
    "> **Note:** Do not skip code blocks. Execute each before you progress to the next.\n",
    "\n",
    "> **Note:** Wait for the entire execution to complete in a code block before you progress to the next."
   ]
  }
 ],
 "metadata": {
  "kernelspec": {
   "display_name": "Python 3 (ipykernel)",
   "language": "python",
   "name": "python3"
  },
  "language_info": {
   "codemirror_mode": {
    "name": "ipython",
    "version": 3
   },
   "file_extension": ".py",
   "mimetype": "text/x-python",
   "name": "python",
   "nbconvert_exporter": "python",
   "pygments_lexer": "ipython3",
   "version": "3.9.13"
  }
 },
 "nbformat": 4,
 "nbformat_minor": 5
}
