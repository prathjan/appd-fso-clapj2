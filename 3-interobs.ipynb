{
 "cells": [
  {
   "cell_type": "markdown",
   "id": "c50391b7",
   "metadata": {},
   "source": [
    "# Setting up Observability for Intersight managed Infrastructure\n",
    "\n",
    "We will now setup a data source that pulls data from Intersight and exports it to any Observability Platforms of your choice as follows. In this example,the data shows how cloud provider tools and open source tools can be leveraged:\n",
    "\n",
    "https://github.com/prathjan/images/blob/main/otelisos.png?raw=true\n",
    "\n",
    "\n",
    "However, in this workshop, we will funnel the observability data to Cisco's FSO Platform DataStore. We will then demonstrate how an FSO solution can leverage this data together with the cloud data to provide a single pane for all observability data of your hybrid cloud deployments.\n",
    "\n",
    "https://github.com/prathjan/images/blob/main/otelisref.png?raw=true\n",
    "\n"
   ]
  },
  {
   "cell_type": "markdown",
   "id": "4065df2b",
   "metadata": {},
   "source": [
    "## Create a k8s namespace \n"
   ]
  },
  {
   "cell_type": "code",
   "execution_count": null,
   "id": "a13d79a0",
   "metadata": {},
   "outputs": [],
   "source": [
    "kubectl create namespace intersight-otel --kubeconfig=./config"
   ]
  },
  {
   "cell_type": "markdown",
   "id": "d984cbbe",
   "metadata": {},
   "source": [
    "## Generate Intersight API Keys\n"
   ]
  },
  {
   "cell_type": "code",
   "execution_count": null,
   "id": "22c1ab9e",
   "metadata": {},
   "outputs": [],
   "source": [
    "TBD"
   ]
  },
  {
   "cell_type": "markdown",
   "id": "9dd6e9dc",
   "metadata": {},
   "source": [
    "## Add your Intersight API key as a Kubernetes secret\n"
   ]
  },
  {
   "cell_type": "code",
   "execution_count": null,
   "id": "e3152818",
   "metadata": {},
   "outputs": [],
   "source": [
    "kubectl --kubeconfig=./config -n intersight-otel create secret generic intersight-api-credentials --from-file=intersight-key-id=/tmp/intersight.keyid.txt --from-file=intersight-key=/tmp/intersight.pem\n",
    "\n"
   ]
  },
  {
   "cell_type": "markdown",
   "id": "57798da5",
   "metadata": {},
   "source": [
    "## Create the OpenTelemetry collector config map\n"
   ]
  },
  {
   "cell_type": "code",
   "execution_count": null,
   "id": "564ff96c",
   "metadata": {},
   "outputs": [],
   "source": [
    "kubectl --kubeconfig=./config -n intersight-otel create configmap otel-collector-config --from-file=otel-collector-config=fso-otel-config.yaml\n",
    "configmap/otel-collector-config created"
   ]
  },
  {
   "cell_type": "markdown",
   "id": "d997254d",
   "metadata": {},
   "source": [
    "## Deploy the Intersight OpenTelemetry Agent\n"
   ]
  },
  {
   "cell_type": "code",
   "execution_count": null,
   "id": "8a2b46d2",
   "metadata": {},
   "outputs": [],
   "source": [
    "kubectl --kubeconfig=./config -n intersight-otel apply -f k8s-all-in-one.yaml"
   ]
  },
  {
   "cell_type": "markdown",
   "id": "4a0fe223",
   "metadata": {},
   "source": [
    "## Monitor the otel collector logs to validate what metrics are being sent to FSO\n"
   ]
  },
  {
   "cell_type": "code",
   "execution_count": null,
   "id": "213dc7f4",
   "metadata": {},
   "outputs": [],
   "source": [
    "kubectl --kubeconfig=./config -n intersight-otel logs intersight-otel-6d4c875648-wckr4 otel-collector -f"
   ]
  }
 ],
 "metadata": {
  "kernelspec": {
   "display_name": "Python 3 (ipykernel)",
   "language": "python",
   "name": "python3"
  },
  "language_info": {
   "codemirror_mode": {
    "name": "ipython",
    "version": 3
   },
   "file_extension": ".py",
   "mimetype": "text/x-python",
   "name": "python",
   "nbconvert_exporter": "python",
   "pygments_lexer": "ipython3",
   "version": "3.9.13"
  }
 },
 "nbformat": 4,
 "nbformat_minor": 5
}
