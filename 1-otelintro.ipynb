{
 "cells": [
  {
   "cell_type": "markdown",
   "id": "c50391b7",
   "metadata": {},
   "source": [
    "# Introduction to OpenTelemetry\n",
    "\n",
    "OpenTelemetry is a collection of tools, APIs and SDKs that allows for instrumentation of applications to generate observability data that can then be collected and contextualized to help analyze application performance and behavior.\n",
    "\n",
    "### Relevant OpenTelemetry Terminology\n",
    "\n",
    "    * API - In the OpenTelemetry project, API's are used to define how telemetry data is generated\n",
    "    \n",
    "    * SDK - A telemetry SDK implements the OpenTelemetry API in a specific language\n",
    "    \n",
    "    * Semantic Conventions - Defines standard names and values of Metadata in order to provide vendor-agnostic telemetry data\n",
    "    \n",
    "    * OTLP - OpenTelemetry Protocol (OTLP) defines the protocol used to exchange data between the client and the server over gRPC or HTTP\n",
    "\n",
    "### OpenTelemetry Signal Types\n",
    "    \n",
    "    * Metrics - a set of measurements collected at regular intervals\n",
    "    \n",
    "    * Logs - strings of structured or unstructured text with an associated timestamp\n",
    "    \n",
    "    * Traces - chains of events (or transactions) between different components in an application\n",
    "\n",
    "### OpenTelemetry reference Architecture\n",
    "\n",
    "Following is a high level architecture diagram for OpenTelemetry. Basically, it shows instrumentation of modern (or legacy) applications that ship back the performance data to a centralized OpenTelemetry Collector: \n",
    "\n",
    "![alt text]https://github.com/prathjan/images/blob/main/otelref.png?raw=true\n",
    "\n",
    "Various pipelines in the collector can be leveraged to contextualize the data before fanning out the observability data to backends such as Jaeger, Prometheus, AppDynamics Cloud or Cisco's FSO Platform:\n",
    "\n",
    "![alt text]https://github.com/prathjan/images/blob/main/otelref2.png?raw=true\n",
    "\n",
    "Let's now deploy and auto instrument a sample JAVA application on a k8s cluster, collect/forward observability data to an OTEL collector and then export to backend observability tools, such as **Cisco's Full Stack Observability Platform**. \n"
   ]
  },
  {
   "cell_type": "markdown",
   "id": "41c5380f",
   "metadata": {},
   "source": [
    "## Pre-execution steps\n",
    "\n",
    "Recall the globals set in the previous notebook. Click Run to set the environment."
   ]
  },
  {
   "cell_type": "code",
   "execution_count": null,
   "id": "9acb60bf",
   "metadata": {},
   "outputs": [],
   "source": [
    "%pwd\n",
    "%cd output\n",
    "%ls\n",
    "!terraform init\n",
    "!terraform apply -auto-approve\n",
    "%cd ..\n"
   ]
  },
  {
   "cell_type": "code",
   "execution_count": null,
   "id": "105e1672",
   "metadata": {},
   "outputs": [],
   "source": [
    "%env cluster_ca=LS0tLS1CRUdJTiBDRVJUSUZJQ0FURS0tLS0tCk1JSURCVENDQWUyZ0F3SUJBZ0lJVU5MYmM2SXZ1TGd3RFFZSktvWklodmNOQVFFTEJRQXdGVEVUTUJFR0ExVUUKQXhNS2EzVmlaWEp1WlhSbGN6QWVGdzB5TXpFd01EVXlNRFF5TVRaYUZ3MHpNekV3TURJeU1EUXlNVFphTUJVeApFekFSQmdOVkJBTVRDbXQxWW1WeWJtVjBaWE13Z2dFaU1BMEdDU3FHU0liM0RRRUJBUVVBQTRJQkR3QXdnZ0VLCkFvSUJBUUN2cmtsWFNpQjludkdUVDZDRXBzMm85NUoyd2UydzFVZHNXSFI1ejBPS0tjN2YzM3ppWWRUdU5FT3IKMmxvQ0I0Y3NteDBWaWthOS9IRTZDQWpoaFkyeUVlcG4zMXh1eGl4VEYzY3Q5QzBsVGRFeFcraGVxU2JwdlExeAo5c0ZhOEZZZ3AxODZSUWh2enpQUEtPUHVtN1BmemFFK0pjVEh1V3pGYzlYcThnaE5qRVA3YzRZdTEyaDhuaWROCitvWWd3V0ljQldBMTBJWS9iNlZxVk9BVFZiejk3Q3JRWCtNNS9NaHg3am55WXBnVXBWM1pIVWJwMU8vRDQ1WWEKNXJjRTRDUGZHU0MxQTZkRU96Zjl6QnowT1B1RlN4R1lLTXJPNHE3dkpaUlZHRG8vbVRaOXo0SEVTcU13cFB0cAovTmU0ays3c1ZzNUxVRkZEcHlOWFNCbjI4blpaQWdNQkFBR2pXVEJYTUE0R0ExVWREd0VCL3dRRUF3SUNwREFQCkJnTlZIUk1CQWY4RUJUQURBUUgvTUIwR0ExVWREZ1FXQkJUSVFQa2JGRmFYdkxiKzMzVCtsMEhYSzM4cFB6QVYKQmdOVkhSRUVEakFNZ2dwcmRXSmxjbTVsZEdWek1BMEdDU3FHU0liM0RRRUJDd1VBQTRJQkFRQnZqZWxsMnozMgp2YXphVExNMzdoN2cyRHppUElEcUg4OVB4Y1d6NW91WGs1ZlA0QzBJcHI1MEtnRDRHN3RBRUFuelNGRWhEUHAyCjBUQ2ZnbkxsMktwT0RqekxydWxqR1dCWEhMR3ovS3RlZGV4QVhZMzZlOG5UNmxnSW55YzlNWEpROVUzYmNOMnIKVERXT2ptU2w5UXRwNEVDclVtMGlleUZCNDFLU01RSlNneWNZRE1JRjl4dDBnNy90MnBOZU1vcFBtUmdJM0NVZQo3VFF4L0Y4ZGZuSWxYNHJLUWY3TlR5Ulloek51QUY3cGFRWGQwWGQwcDZZRnM2aGtVRU1IRUxLMlFmQURFRS9aCjI2Tm8zakVkN2ZLdnF6T3YvQ3dzdEdXVTYzQUFPT3gyTTFCY28zNE9QRU95bTdmeXdBTWNlWlZUd0hzTVZnL2YKNm5pTWFPcGNSMEdwCi0tLS0tRU5EIENFUlRJRklDQVRFLS0tLS0K\n",
    "\n",
    "%env cluster_endpoint=https://E79B2461776A9E2301CC3963E2FBF206.gr7.us-east-2.eks.amazonaws.com\n",
    "\n",
    "%env cluster_name=AppD-EKS-Addon-umkht-EKS\n",
    "\n",
    "%env token=k8s-aws-v1.aHR0cHM6Ly9zdHMuYW1hem9uYXdzLmNvbS8_QWN0aW9uPUdldENhbGxlcklkZW50aXR5JlZlcnNpb249MjAxMS0wNi0xNSZYLUFtei1BbGdvcml0aG09QVdTNC1ITUFDLVNIQTI1NiZYLUFtei1DcmVkZW50aWFsPUFLSUFSUUlLR01EV0tTUDdGQUZPJTJGMjAyMzEwMjklMkZ1cy1lYXN0LTElMkZzdHMlMkZhd3M0X3JlcXVlc3QmWC1BbXotRGF0ZT0yMDIzMTAyOVQyMjE2MjBaJlgtQW16LUV4cGlyZXM9MCZYLUFtei1TaWduZWRIZWFkZXJzPWhvc3QlM0J4LWs4cy1hd3MtaWQmWC1BbXotU2lnbmF0dXJlPWJlNDIyYWY1NTU3ZWE1YTE4YTQ0MzRkMWU3MzY5ZjA2ODcxNWI2Y2QwMGRhODJmMjgzMGE3OGVkNTM1Njc4YjA\n",
    "\n",
    "%env aws_region=us-east-2\n",
    "\n",
    "%env clientId=agt_1fbuVmNNxGnNJlv4ZAWyZD\n",
    "\n",
    "%env clientSecret=hMSQ-pHoQwUpq7zbnzl66aqKUMge9kI_ZEX6hWkZWjU\n",
    "\n",
    "%env clusterName=AppD-EKS-Addon-umkht-EKS\n",
    "\n",
    "%env APPD_CLIENTID_POST=<provided in the Sandbox above>\n",
    "\n",
    "%env APPD_SECRET_POST=<provided in the Sandbox above>\n",
    "\n",
    "%env APPD_CLIENTID_BASIC=<provided in the Sandbox above>\n",
    "\n",
    "%env APPD_SECRET_BASIC=<provided in the Sandbox above>\n",
    "\n",
    "%env TENANT_NAME=<provided in the Sandbox above>\n",
    "\n",
    "%env AWS_ACCESS_KEY=<provided in the Sandbox above>\n",
    "\n",
    "%env AWS_SECRET_KEY=<provided in the Sandbox above>\n",
    "\n",
    "%env AWS_CONNECTION_NAME=<provided in the Sandbox above>\n",
    "\n",
    "%env APPD_CLIENTID_AGT=<provided in the Sandbox above>\n",
    "\n",
    "%env APPD_SECRET_AGT=<provided in the Sandbox above>"
   ]
  },
  {
   "cell_type": "markdown",
   "id": "4065df2b",
   "metadata": {},
   "source": [
    "## Deploy Teastore Multi service application in EKS\n"
   ]
  },
  {
   "cell_type": "code",
   "execution_count": null,
   "id": "9deccd6b",
   "metadata": {},
   "outputs": [],
   "source": [
    "%%writefile main.tf\n",
    "\n",
    "provider \"aws\" {\n",
    "  region = var.aws_region\n",
    "}\n",
    "\n",
    "provider \"helm\" {\n",
    "  kubernetes {\n",
    "    host                   = var.endpoint\n",
    "    cluster_ca_certificate = base64decode(var.cluster_ca)\n",
    "    token                  = var.token\n",
    "  }\n",
    "}\n",
    "\n",
    "variable \"endpoint\" {\n",
    "  type        = string\n",
    "}\n",
    "variable \"cluster_ca\" {\n",
    "  type        = string\n",
    "}\n",
    "variable \"token\" {\n",
    "  type        = string\n",
    "}\n",
    "\n",
    "resource \"helm_release\" \"teaapp\" {\n",
    "  name       = \"teaapp\"\n",
    "  description      = \"A Helm chart for the TeaStore application.\"\n",
    "  namespace = \"default\"\n",
    "  chart = \"https://prathjan.github.io/helm-chart/teastore-0.1.0.tgz\"\n",
    "  wait             = true\n",
    "  wait_for_jobs    = true\n",
    "}"
   ]
  },
  {
   "cell_type": "code",
   "execution_count": null,
   "id": "389d0252",
   "metadata": {},
   "outputs": [],
   "source": [
    "!terraform init\n",
    "!terraform apply -auto-approve -var=\"cluster_ca=$cluster_ca\" -var=\"endpoint=$cluster_endpoint\" -var=\"token=$token\"\n"
   ]
  },
  {
   "cell_type": "markdown",
   "id": "96a35ff6",
   "metadata": {},
   "source": [
    "## Access TeaStore Application\n",
    "\n",
    "Get the service url for the TeaStore Application just deployed:\n"
   ]
  },
  {
   "cell_type": "code",
   "execution_count": null,
   "id": "b253521d",
   "metadata": {},
   "outputs": [],
   "source": [
    "!kubectl get pods --all-namespaces\n",
    " "
   ]
  },
  {
   "cell_type": "code",
   "execution_count": null,
   "id": "b9b2ea7b",
   "metadata": {},
   "outputs": [],
   "source": [
    "!kubectl get svc\n",
    "%pwd"
   ]
  },
  {
   "cell_type": "markdown",
   "id": "7fe5722e",
   "metadata": {},
   "source": [
    "\n",
    "Use the Load Balancer IP listed above and access the application just deployed at:\n",
    "\n",
    "http://*LB_IP*/tools.descartes.teastore.webui/\n",
    "\n",
    "It should look something like this. Deployment takes about 5 mins, refresh if you do not see the UI below:\n",
    "\n",
    "https://github.com/prathjan/images/blob/main/teaapp.png?raw=true"
   ]
  },
  {
   "cell_type": "markdown",
   "id": "9dd6e9dc",
   "metadata": {},
   "source": [
    "## Deploy AppDynamics Kubernetes and App Service Monitoring in EKS\n",
    "\n",
    "Kubernetes and App Service Monitoring provides visibility into your Kubernetes® infrastructure and services for Application Performance Monitoring (APM).\n",
    "\n",
    "For more info: \n",
    "\n",
    "https://docs.appdynamics.com/fso/cloud-native-app-obs/en/kubernetes-and-app-service-monitoring/install-kubernetes-and-app-service-monitoring#InstallKubernetesandAppServiceMonitoring-helm-chartsInstallKubernetesandAppServiceMonitoringUsingHelmCharts\n"
   ]
  },
  {
   "cell_type": "markdown",
   "id": "ee9105a5",
   "metadata": {},
   "source": [
    "### Pre-provisioning\n",
    "\n",
    "Let's set up AppDynamics collector and operator configuration as per the steps in the above URL."
   ]
  },
  {
   "cell_type": "code",
   "execution_count": null,
   "id": "061804c8",
   "metadata": {},
   "outputs": [],
   "source": [
    "%pwd"
   ]
  },
  {
   "cell_type": "code",
   "execution_count": null,
   "id": "f44f3c81",
   "metadata": {},
   "outputs": [],
   "source": [
    "%%writefile template.tf\n",
    "\n",
    "variable \"clusterName\" {\n",
    "  description = \"AWS EKS Cluster name.\"\n",
    "  type        = string\n",
    "}\n",
    "\n",
    "variable \"clientId\" {\n",
    "  description = \"FSO Platform client id.\"\n",
    "  type        = string\n",
    "}\n",
    "variable \"clientSecret\" {\n",
    "  description = \"FSO Platform client secret.\"\n",
    "  type        = string\n",
    "}\n",
    "\n",
    "locals {\n",
    "    collector_content = templatefile(\"${path.module}/collectors-values.tmpl\", { clusterName = var.clusterName, clientId = var.clientId, clientSecret = var.clientSecret })\n",
    "    operator_content = templatefile(\"${path.module}/operators-values.tmpl\", { clusterName = var.clusterName, clientId = var.clientId, clientSecret = var.clientSecret })\n",
    "}\n",
    "\n",
    "resource \"null_resource\" \"local\" {\n",
    "  # Render to local file on machine\n",
    "  # https://github.com/hashicorp/terraform/issues/8090#issuecomment-291823613\n",
    "  provisioner \"local-exec\" {\n",
    "    command = format(\n",
    "      \"cat <<\\\"EOF\\\" > \\\"%s\\\"\\n%s\\nEOF\",\n",
    "      \"${path.module}/collectors-values.yaml\",\n",
    "      local.collector_content\n",
    "    )\n",
    "  }\n",
    "  provisioner \"local-exec\" {\n",
    "    command = format(\n",
    "      \"cat <<\\\"EOF\\\" > \\\"%s\\\"\\n%s\\nEOF\",\n",
    "      \"${path.module}/operators-values.yaml\",\n",
    "      local.operator_content\n",
    "    )\n",
    "  }\n",
    "}\n",
    "\n",
    "\n",
    "resource \"helm_release\" \"cert-manager\" {\n",
    "  name       = \"cert-manager\"\n",
    "  description      = \"A Helm chart for the cert-manager application.\"\n",
    "  namespace = \"cert-manager\"\n",
    "  create_namespace = true  \n",
    "  chart            = \"cert-manager\"\n",
    "  repository       = \"https://charts.jetstack.io\"\n",
    "  version          = \"v1.5.3\"\n",
    "  set {\n",
    "    name  = \"installCRDs\"\n",
    "    value = \"true\"\n",
    "  }\n",
    "}\n"
   ]
  },
  {
   "cell_type": "code",
   "execution_count": null,
   "id": "0de50129",
   "metadata": {},
   "outputs": [],
   "source": [
    "%pwd\n",
    "!terraform init\n",
    "!terraform apply -auto-approve -var=\"cluster_ca=$cluster_ca\" -var=\"endpoint=$cluster_endpoint\" -var=\"token=$token\" -var=\"clusterName=$clusterName\" -var=\"clientId=$clientId\" -var=\"clientSecret=$clientSecret\"\n"
   ]
  },
  {
   "cell_type": "markdown",
   "id": "0deaeaa7",
   "metadata": {},
   "source": [
    "## Provision AppDynamics APM Monitoring\n",
    "\n",
    "Let's deploy the collector and operator entities to start the monitoring of the EKS cluster."
   ]
  },
  {
   "cell_type": "code",
   "execution_count": null,
   "id": "e8351169",
   "metadata": {},
   "outputs": [],
   "source": [
    "%%writefile appd.tf\n",
    "\n",
    "terraform {\n",
    "  required_providers {\n",
    "    helm = {\n",
    "      source = \"hashicorp/helm\"\n",
    "    }\n",
    "  }\n",
    "}\n",
    "\n",
    "\n",
    "\n",
    "resource helm_release appdoperator {\n",
    "  name       = \"appdynamics-operators\"\n",
    "  namespace = \"appdynamics\"\n",
    "  create_namespace = true\n",
    "  chart = \"appdynamics-operators\"\n",
    "  repository = \"https://appdynamics.jfrog.io/artifactory/appdynamics-cloud-helmcharts\"\n",
    "  timeout = 600\n",
    "  values = [\n",
    "    file(\"${path.module}/operators-values.yaml\")\n",
    "  ]\n",
    "}\n",
    "\n",
    "resource helm_release appdcollector {\n",
    "  depends_on  = [helm_release.appdoperator]\n",
    "  name       = \"appdynamics-collectors\"\n",
    "  namespace = \"appdynamics\"\n",
    "  chart = \"appdynamics-collectors\"\n",
    "  repository = \"https://appdynamics.jfrog.io/artifactory/appdynamics-cloud-helmcharts\"\n",
    "  timeout = 600\n",
    "  values = [\n",
    "    file(\"${path.module}/collectors-values.yaml\")\n",
    "  ]\n",
    "}\n"
   ]
  },
  {
   "cell_type": "code",
   "execution_count": null,
   "id": "3b98bb07",
   "metadata": {},
   "outputs": [],
   "source": [
    "%pwd\n",
    "!terraform init\n",
    "!terraform apply -auto-approve -var=\"cluster_ca=$cluster_ca\" -var=\"endpoint=$cluster_endpoint\" -var=\"token=$token\" -var=\"clusterName=$clusterName\" -var=\"clientId=$clientId\" -var=\"clientSecret=$clientSecret\"\n"
   ]
  },
  {
   "cell_type": "markdown",
   "id": "d984cbbe",
   "metadata": {},
   "source": [
    "## Auto Instrumentation of TeaStore Application\n",
    "\n",
    "Description - This section describes how to auto-instrument your services using the OpenTelemetry Operator For Kubernetes® installed by the Kubernetes and App Service Monitoring Helm charts above.\n"
   ]
  },
  {
   "cell_type": "code",
   "execution_count": null,
   "id": "15a10251",
   "metadata": {},
   "outputs": [],
   "source": [
    "%%writefile instrument.tf\n",
    "\n",
    "resource \"null_resource\" \"patchnamespace\" {\n",
    "   provisioner \"local-exec\" {\n",
    "    command = <<EOT\n",
    "      kubectl patch namespace default --patch '{\"metadata\": {\"annotations\": {\"instrumentation.opentelemetry.io/inject-java\": \"appdynamics/appd-instrumentation\"}}}'\n",
    "  EOT\n",
    "  }\n",
    "}\n",
    "\n",
    "resource \"null_resource\" \"restartapp\" {\n",
    "  depends_on  = [null_resource.patchnamespace]\n",
    "   provisioner \"local-exec\" {\n",
    "    command = <<EOT\n",
    "      kubectl delete pod $(kubectl get pods | grep teaapp | cut -d ' ' -f 1)\n",
    "  EOT\n",
    "  }\n",
    "}\n",
    "\n"
   ]
  },
  {
   "cell_type": "code",
   "execution_count": null,
   "id": "1e87b099",
   "metadata": {},
   "outputs": [],
   "source": [
    "%pwd\n",
    "!terraform init\n",
    "!terraform apply -auto-approve -var=\"cluster_ca=$cluster_ca\" -var=\"endpoint=$cluster_endpoint\" -var=\"token=$token\" -var=\"clusterName=$clusterName\" -var=\"clientId=$clientId\" -var=\"clientSecret=$clientSecret\"\n"
   ]
  },
  {
   "cell_type": "markdown",
   "id": "5387cc0d",
   "metadata": {},
   "source": [
    "## Full Stack Observability in AppDynamics Cloud\n",
    "\n",
    "Once the JAVA services are auto instrumented, you will be able to review the value add of Cisco's FSO Platform as it applies to the following:\n",
    "\n",
    "* Observe cloud-native microservices deployed on multiple public Kubernetes clusters.\n",
    "\n",
    "* Observe the full stack, including relationships and interdependencies, using an extensible topology.\n",
    "\n",
    "* Monitor business transactions.\n",
    "\n",
    "* Receive MELT data from OpenTelemetry-compatible collectors.\n",
    "\n",
    "https://github.com/prathjan/images/blob/main/fsosvc.png?raw=true\n"
   ]
  },
  {
   "cell_type": "markdown",
   "id": "8a30099d",
   "metadata": {},
   "source": [
    "In the next section, we will review Cisco's FSO Platform briefly."
   ]
  }
 ],
 "metadata": {
  "kernelspec": {
   "display_name": "Python 3 (ipykernel)",
   "language": "python",
   "name": "python3"
  },
  "language_info": {
   "codemirror_mode": {
    "name": "ipython",
    "version": 3
   },
   "file_extension": ".py",
   "mimetype": "text/x-python",
   "name": "python",
   "nbconvert_exporter": "python",
   "pygments_lexer": "ipython3",
   "version": "3.9.13"
  }
 },
 "nbformat": 4,
 "nbformat_minor": 5
}
