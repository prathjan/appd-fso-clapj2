{
 "cells": [
  {
   "cell_type": "markdown",
   "id": "c31e3a0f",
   "metadata": {},
   "source": [
    "# Setting up Cloud Observability with Terraform - Provisioning Health Rules with Terraform \n",
    "\n",
    "In the previous sections, we reviewed using API's to set up cloud connections, health rules, anomaly detection to AWS cloud resources. In this section, we shall use Terraform to do the same.\n",
    "    \n",
    "To progress with the lab, click **inside** the boxes below that contain the snippets of Python code. Note that the **Run** button will appear to the left of the code box. Click on the **arrow** button to execute the code snippet. After you click **Run**, executions in progress will be denoted by \"ln[*]\"\n",
    "\n",
    "> **Note:** Do not skip code blocks. Execute each before you progress to the next.\n",
    "\n",
    "> **Note:** Wait for the entire execution to complete in a code block before you progress to the next."
   ]
  },
  {
   "cell_type": "markdown",
   "id": "fdd41e3f",
   "metadata": {},
   "source": [
    "## Pre-execution steps\n",
    "\n",
    "Recall the globals set in in the previous notebook. Click **Run** to set the environment."
   ]
  },
  {
   "cell_type": "code",
   "execution_count": null,
   "id": "1e291a34",
   "metadata": {},
   "outputs": [],
   "source": [
    "import os\n",
    "%store -r aws_key\n",
    "%store -r aws_secret\n",
    "%store -r aws_conn_name\n",
    "%store -r cl_id\n",
    "%store -r cl_secret\n",
    "\n",
    "os.environ['AWS_KEY'] = aws_key\n",
    "os.environ['AWS_SECRET'] = aws_secret\n",
    "os.environ['AWS_CONN_NAME'] = aws_conn_name\n",
    "os.environ['CL_ID'] = cl_id\n",
    "os.environ['CL_SECRET'] = cl_secret\n",
    "print(\"Globals set:\" + \"\\n\")\n",
    "print(\"Connection Name:\" + aws_conn_name + \"\\n\")\n",
    "print(\"AWS Secret:\" + aws_secret + \"\\n\")\n",
    "print(\"AWS Key:\" + aws_key + \"\\n\")\n"
   ]
  },
  {
   "cell_type": "markdown",
   "id": "1b612456",
   "metadata": {},
   "source": [
    "## Check Terraform and initialize AppDynamics Provider\n",
    "\n",
    "Run this command to make sure you can access Terraform that has been set up for this environment. Also, note that we are using a local copy of the AppDynamics Terraform provider and we shall copy it to your local instance."
   ]
  },
  {
   "cell_type": "code",
   "execution_count": null,
   "id": "264e57ba",
   "metadata": {},
   "outputs": [],
   "source": [
    "!terraform version\n"
   ]
  },
  {
   "cell_type": "code",
   "execution_count": null,
   "id": "4d34ebb5",
   "metadata": {},
   "outputs": [],
   "source": [
    "!mkdir -p ~/.terraform.d/plugins/terraform.local/local/appdynamics/1.0.0/darwin_amd64/terraform-provider-appdynamics_v1.0.0\n"
   ]
  },
  {
   "cell_type": "code",
   "execution_count": null,
   "id": "6d581cfd",
   "metadata": {},
   "outputs": [],
   "source": [
    "!cp ./plugin/appdynamicscloud ~/.terraform.d/plugins/terraform.local/local/appdynamics/1.0.0/darwin_amd64/terraform-provider-appdynamics_v1.0.0\n"
   ]
  },
  {
   "cell_type": "code",
   "execution_count": null,
   "id": "8373ee1c",
   "metadata": {},
   "outputs": [],
   "source": [
    "!rm main.tf data.tf dataregions.tf dataservices.tf datas.tf allconns.tf"
   ]
  },
  {
   "cell_type": "markdown",
   "id": "b7fcc6f0",
   "metadata": {},
   "source": [
    "## Create Health Rule Terraform Configuration\n",
    "\n",
    "Lets first write the paylod for the Health Rule and then apply the terraform plan."
   ]
  },
  {
   "cell_type": "code",
   "execution_count": null,
   "id": "edae5656",
   "metadata": {},
   "outputs": [],
   "source": [
    "%%writefile createHR.json\n",
    "\n",
    "{\n",
    "    \"name\": \"Create HR Using terraform Script\",\n",
    "    \"description\": \"Health Rule : Create HR Using terraform Script\",\n",
    "    \"enabled\": true,\n",
    "    \"scheduleName\": \"Always\",\n",
    "    \"waitTimeAfterViolation\": \"5m\",\n",
    "    \"evaluationObjects\": \"k8s:pod()\",\n",
    "    \"criticalCriteria\": {\n",
    "        \"criteriaExpression\": \"A\",\n",
    "        \"conditions\": [\n",
    "            {\n",
    "                \"name\": \"Condition 1\",\n",
    "                \"label\": \"A\",\n",
    "                \"conditionExpression\": \"metric:k8s.memory.usage.cmin(2m)>95\",\n",
    "                \"evaluateToTrueOnNoData\": false,\n",
    "                \"source\": \"infra-agent\"\n",
    "            }\n",
    "        ]\n",
    "    },\n",
    "    \"warningCriteria\": {\n",
    "        \"criteriaExpression\": \"A\",\n",
    "        \"conditions\": [\n",
    "            {\n",
    "                \"name\": \"Condition 1\",\n",
    "                \"label\": \"A\",\n",
    "                \"conditionExpression\": \"metric:k8s.memory.usage.cmin(2m)>75\",\n",
    "                \"evaluateToTrueOnNoData\": false,\n",
    "                \"source\": \"infra-agent\"\n",
    "            }\n",
    "        ]\n",
    "    },\n",
    "    \"associateHealthTo\": [\n",
    "        {\n",
    "            \"objectExpr\": \"this\"\n",
    "        }\n",
    "    ]\n",
    "}\n"
   ]
  },
  {
   "cell_type": "code",
   "execution_count": null,
   "id": "5ebd272a",
   "metadata": {},
   "outputs": [],
   "source": [
    "%%writefile createHR.tf\n",
    "\n",
    "terraform {\n",
    "  required_providers {\n",
    "    http = {\n",
    "      source = \"hashicorp/http\"\n",
    "      version = \"3.1.0\"\n",
    "    }\n",
    "    local = {\n",
    "      source = \"hashicorp/local\"\n",
    "      version = \"2.2.3\"\n",
    "    }\n",
    "  }\n",
    "}\n",
    "\n",
    "provider \"http\" {\n",
    "  # Configuration options\n",
    "}\n",
    "\n",
    "\n",
    "data \"http\" \"get_auth_token\" {\n",
    "  provider = http\n",
    "  url = \"${var.appdURL}/auth/${var.tenant}/default/oauth2/token\"\n",
    "\n",
    "  request_headers = {\n",
    "    Content-Type  =  \"application/x-www-form-urlencoded\"\n",
    "    Authorization = \"Basic ${base64encode(\"${var.clientId}:${var.clientSecret}\")}\"\n",
    "  }\n",
    "  request_body = \"grant_type=client_credentials\"\n",
    "  method = \"POST\"\n",
    "  lifecycle {\n",
    "    postcondition {\n",
    "      condition     = contains([200], self.status_code)\n",
    "      error_message = \"Status code invalid, Auth Token not generated successfully. ${self.response_body}\"\n",
    "    }\n",
    "  }\n",
    "}\n",
    "\n",
    "\n",
    "locals {\n",
    "  auth_response = jsondecode(data.http.get_auth_token.response_body)\n",
    "  json_data = file(\"${path.module}/createHR.json\")\n",
    "}\n",
    "\n",
    "\n",
    "\n",
    "data \"http\" \"create_healthrule\"{\n",
    "provider = http\n",
    "  url = \"${var.appdURL}/alerting/v1beta/healthRules\"\n",
    "  request_headers = {\n",
    "    Content-Type   = \"application/json\"\n",
    "    Authorization  =\"Bearer ${local.auth_response.access_token}\"\n",
    "    Appd-Tenant-Id = \"${var.tenant}\"\n",
    "    Accept         = \"application/json\"\n",
    "  }\n",
    "  method = \"POST\"\n",
    "  request_body = \"${local.json_data}\"\n",
    "}\n",
    "\n",
    "output \"get_response\" {\n",
    "  value = \"Health rule create response is ${data.http.create_healthrule.response_body} with response code ${data.http.create_healthrule.status_code}\"\n",
    "}\n",
    "\n",
    "resource \"local_file\" \"json-data\" {\n",
    "    content  = data.http.create_healthrule.response_body\n",
    "    filename = \"CreateHRResponse.json\"\n",
    "}\n"
   ]
  },
  {
   "cell_type": "code",
   "execution_count": null,
   "id": "5a284900",
   "metadata": {},
   "outputs": [],
   "source": [
    "%%writefile variables.tf\n",
    "\n",
    "variable \"appdURL\" {\n",
    "  description = \"Endpoint of the Cloud Native Application Observability applications\"\n",
    "  type        = string\n",
    "  default     = \"<Your FSO Tenant URL>\"\n",
    "}\n",
    "\n",
    "variable \"tenant\" {\n",
    "  description = \"Tenant ID\"\n",
    "  type        = string\n",
    "  default     = \"<Your FSO Tenant ID as per your Service Principals>\"\n",
    "}\n",
    "\n",
    "variable \"clientId\" {\n",
    "  description = \"Generated Client ID\"\n",
    "  type        = string\n",
    "  default     = \"<Your Client ID as per your Service Principals>\"\n",
    "}\n",
    "\n",
    "variable \"clientSecret\" {\n",
    "  description = \"Generated Client Secret\"\n",
    "  type        = string\n",
    "  default     = \"<Your Client Secret Key as per your Service Principals>\"\n",
    "}"
   ]
  },
  {
   "cell_type": "markdown",
   "id": "6218f851",
   "metadata": {},
   "source": [
    "## Initialize Terraform"
   ]
  },
  {
   "cell_type": "code",
   "execution_count": null,
   "id": "d3ac935c",
   "metadata": {},
   "outputs": [],
   "source": [
    "!terraform init"
   ]
  },
  {
   "cell_type": "markdown",
   "id": "3ac42a29",
   "metadata": {},
   "source": [
    "## Checkout Terraform Plan"
   ]
  },
  {
   "cell_type": "code",
   "execution_count": null,
   "id": "8cc9a72e",
   "metadata": {},
   "outputs": [],
   "source": [
    "!terraform plan -var=\"access_key_id=$aws_key\" -var=\"secret_access_key=$aws_secret\" -var=\"client_id=$cl_id\" -var=\"client_secret=$cl_secret\" -var=\"conn_name=$aws_conn_name\" -var=\"descr=XXX\"\n"
   ]
  },
  {
   "cell_type": "markdown",
   "id": "35efa5a5",
   "metadata": {},
   "source": [
    "## Apply Terraform Plan to Create Health Rule"
   ]
  },
  {
   "cell_type": "code",
   "execution_count": null,
   "id": "95c2903c",
   "metadata": {},
   "outputs": [],
   "source": [
    "!terraform apply -auto-approve -var=\"conn_name=$aws_conn_name\" -var=\"descr=XXX\" -var=\"access_key_id=$aws_key\" -var=\"secret_access_key=$aws_secret\" -var=\"client_id=$cl_id\" -var=\"client_secret=$cl_secret\"\n"
   ]
  },
  {
   "cell_type": "code",
   "execution_count": null,
   "id": "4d599b8b",
   "metadata": {},
   "outputs": [],
   "source": [
    "connid=\"$(terraform output -raw conn_id)\"\n",
    "!terraform apply -auto-approve  -var=\"tenant=76d947c5-91ee-4a95-8833-7bf9040a3d88\" -var=\"appdURL=https://cisco-devnet.observe.appdynamics.com\" -var=\"descr=Test connection for AWS\" -var=\"conn_name=$aws_conn_name\" -var=\"access_key_id=$aws_key\" -var=\"secret_access_key=$aws_secret\" -var=\"client_id=$cl_id\" -var=\"client_secret=$cl_secret\"\n"
   ]
  },
  {
   "cell_type": "markdown",
   "id": "040ac415",
   "metadata": {},
   "source": [
    "## Delete Health Rule\n"
   ]
  },
  {
   "cell_type": "code",
   "execution_count": null,
   "id": "7e9d172d",
   "metadata": {},
   "outputs": [],
   "source": [
    "!terraform destroy -auto-approve -var=\"conn_name=$aws_conn_name\" -var=\"descr=XXX\" -var=\"access_key_id=$aws_key\" -var=\"secret_access_key=$aws_secret\" -var=\"client_id=$cl_id\" -var=\"client_secret=$cl_secret\"\n"
   ]
  }
 ],
 "metadata": {
  "kernelspec": {
   "display_name": "Python 3 (ipykernel)",
   "language": "python",
   "name": "python3"
  },
  "language_info": {
   "codemirror_mode": {
    "name": "ipython",
    "version": 3
   },
   "file_extension": ".py",
   "mimetype": "text/x-python",
   "name": "python",
   "nbconvert_exporter": "python",
   "pygments_lexer": "ipython3",
   "version": "3.9.13"
  }
 },
 "nbformat": 4,
 "nbformat_minor": 5
}
